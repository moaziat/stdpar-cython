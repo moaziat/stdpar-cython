{
 "cells": [
  {
   "cell_type": "markdown",
   "metadata": {},
   "source": [
    "# Example 1: Sorting"
   ]
  },
  {
   "cell_type": "markdown",
   "metadata": {},
   "source": [
    "This is a notebook demonstrating how to use Cython and [stdpar](https://developer.nvidia.com/blog/accelerating-standard-c-with-gpus-using-stdpar/) to accelerate Python code.\n",
    "\n",
    "This example is centered on a simple task: sorting a sequence of integers"
   ]
  },
  {
   "cell_type": "markdown",
   "metadata": {},
   "source": [
    "## Setup <a name=\"setup\"></a>"
   ]
  },
  {
   "cell_type": "markdown",
   "metadata": {},
   "source": [
    "Some essential imports and utility functions for benchmarking:"
   ]
  },
  {
   "cell_type": "code",
   "execution_count": 1,
   "metadata": {},
   "outputs": [],
   "source": [
    "import timeit\n",
    "\n",
    "import numpy as np\n",
    "import pandas as pd\n",
    "import matplotlib.pyplot as plt\n",
    "\n",
    "from utils import format_time"
   ]
  },
  {
   "cell_type": "code",
   "execution_count": 2,
   "metadata": {},
   "outputs": [],
   "source": [
    "plt.rcParams.update({'font.size': 15})"
   ]
  },
  {
   "cell_type": "code",
   "execution_count": 3,
   "metadata": {},
   "outputs": [],
   "source": [
    "def random_data(size):\n",
    "    return np.random.randint(size, size=size, dtype=\"int32\")"
   ]
  },
  {
   "cell_type": "code",
   "execution_count": 4,
   "metadata": {},
   "outputs": [],
   "source": [
    "def time_sort(size, sort_func):\n",
    "    repeat = 10\n",
    "    dt = 0\n",
    "    for i in range(repeat):\n",
    "        data = random_data(size)\n",
    "        start = timeit.default_timer()\n",
    "        sort_func(data)\n",
    "        end = timeit.default_timer()\n",
    "        dt += (end - start)\n",
    "    return (dt) / repeat"
   ]
  },
  {
   "cell_type": "code",
   "execution_count": 5,
   "metadata": {},
   "outputs": [],
   "source": [
    "def run_benchmark(sort_func, name):\n",
    "    sizes = [100, 1_000, 10_000, 100_000, 1_000_000, 10_000_000]\n",
    "    return pd.Series(\n",
    "        [time_sort(s, sort_func) for s in sizes],\n",
    "        index=sizes,\n",
    "        name=name\n",
    "    )"
   ]
  },
  {
   "cell_type": "markdown",
   "metadata": {},
   "source": [
    "## Calling `std::sort` from Cython"
   ]
  },
  {
   "cell_type": "markdown",
   "metadata": {},
   "source": [
    "In `cppsort_serial.pyx` below, we define a function `cppsort` that uses the C++ `std::sort` function to sort an input array:"
   ]
  },
  {
   "cell_type": "code",
   "execution_count": 6,
   "metadata": {},
   "outputs": [
    {
     "name": "stdout",
     "output_type": "stream",
     "text": [
      "Writing cppsort_serial.pyx\n"
     ]
    }
   ],
   "source": [
    "%%writefile cppsort_serial.pyx\n",
    "\n",
    "# distutils: language=c++\n",
    "\n",
    "from libcpp.algorithm cimport sort\n",
    "\n",
    "def cppsort(int[:] x):\n",
    "    sort(&x[0], &x[-1] + 1) "
   ]
  },
  {
   "cell_type": "markdown",
   "metadata": {},
   "source": [
    "To use the `cppsort` function from Python, we need to first build it into an extension module. The following command does just that. Comment out the `%%capture` line to see the output from the compilation and/or to debug any issues."
   ]
  },
  {
   "cell_type": "code",
   "execution_count": 7,
   "metadata": {},
   "outputs": [],
   "source": [
    "%%capture\n",
    "!python setup.py build_ext --inplace"
   ]
  },
  {
   "cell_type": "markdown",
   "metadata": {},
   "source": [
    "The following code times the execution of `cppsort` for various input sizes, and prints the results:"
   ]
  },
  {
   "cell_type": "code",
   "execution_count": 8,
   "metadata": {},
   "outputs": [
    {
     "data": {
      "text/html": [
       "<div>\n",
       "<style scoped>\n",
       "    .dataframe tbody tr th:only-of-type {\n",
       "        vertical-align: middle;\n",
       "    }\n",
       "\n",
       "    .dataframe tbody tr th {\n",
       "        vertical-align: top;\n",
       "    }\n",
       "\n",
       "    .dataframe thead th {\n",
       "        text-align: right;\n",
       "    }\n",
       "</style>\n",
       "<table border=\"1\" class=\"dataframe\">\n",
       "  <thead>\n",
       "    <tr style=\"text-align: right;\">\n",
       "      <th></th>\n",
       "      <th>CPU serial</th>\n",
       "    </tr>\n",
       "  </thead>\n",
       "  <tbody>\n",
       "    <tr>\n",
       "      <th>100</th>\n",
       "      <td>12.882146984338762 µs</td>\n",
       "    </tr>\n",
       "    <tr>\n",
       "      <th>1000</th>\n",
       "      <td>114.0187494456768 µs</td>\n",
       "    </tr>\n",
       "    <tr>\n",
       "      <th>10000</th>\n",
       "      <td>951.5411220490932 µs</td>\n",
       "    </tr>\n",
       "    <tr>\n",
       "      <th>100000</th>\n",
       "      <td>5.977822653949261 ms</td>\n",
       "    </tr>\n",
       "    <tr>\n",
       "      <th>1000000</th>\n",
       "      <td>69.14751594886184 ms</td>\n",
       "    </tr>\n",
       "    <tr>\n",
       "      <th>10000000</th>\n",
       "      <td>803.4838857129216 ms</td>\n",
       "    </tr>\n",
       "  </tbody>\n",
       "</table>\n",
       "</div>"
      ],
      "text/plain": [
       "                     CPU serial\n",
       "100       12.882146984338762 µs\n",
       "1000       114.0187494456768 µs\n",
       "10000      951.5411220490932 µs\n",
       "100000     5.977822653949261 ms\n",
       "1000000    69.14751594886184 ms\n",
       "10000000   803.4838857129216 ms"
      ]
     },
     "execution_count": 8,
     "metadata": {},
     "output_type": "execute_result"
    }
   ],
   "source": [
    "from cppsort_serial import cppsort\n",
    "\n",
    "cpu_serial = run_benchmark(cppsort, \"CPU serial\")\n",
    "cpu_serial.map(format_time).to_frame()"
   ]
  },
  {
   "cell_type": "code",
   "execution_count": 22,
   "metadata": {},
   "outputs": [],
   "source": [
    "!rm -f cppsort_serial.pyx"
   ]
  },
  {
   "cell_type": "markdown",
   "metadata": {},
   "source": [
    "## Parallelizing `std::sort` using CPU threads"
   ]
  },
  {
   "cell_type": "markdown",
   "metadata": {},
   "source": [
    "We extend the `cppsort` function above by passing the [parallel execution policy](https://en.cppreference.com/w/cpp/algorithm/execution_policy_tag_t) to `std::sort`. For this to work correctly, we must link the [tbb](https://github.com/oneapi-src/oneTBB) library, which provides a parallel implementation of `std::sort`."
   ]
  },
  {
   "cell_type": "code",
   "execution_count": 9,
   "metadata": {},
   "outputs": [
    {
     "name": "stdout",
     "output_type": "stream",
     "text": [
      "Writing cppsort_parallel.pyx\n"
     ]
    }
   ],
   "source": [
    "%%writefile cppsort_parallel.pyx\n",
    "\n",
    "# distutils: language=c++\n",
    "# distutils: libraries=tbb\n",
    "\n",
    "from execution cimport par\n",
    "from algorithm cimport sort\n",
    "\n",
    "def cppsort(int[:] x):\n",
    "    sort(par, &x[0], &x[-1] + 1)"
   ]
  },
  {
   "cell_type": "code",
   "execution_count": 10,
   "metadata": {},
   "outputs": [],
   "source": [
    "%%capture\n",
    "!python setup.py build_ext --inplace"
   ]
  },
  {
   "cell_type": "code",
   "execution_count": 13,
   "metadata": {},
   "outputs": [],
   "source": [
    "try:\n",
    "    from cppsort_parallel import cppsort\n",
    "\n",
    "    cpu_parallel = run_benchmark(cppsort, \"CPU parallel\")\n",
    "    cpu_parallel.map(format_time).to_frame()\n",
    "except ImportError:  # handle if TBB is missing\n",
    "    cpu_parallel = cpu_serial.replace(cpu_serial.values, pd.NA).rename(\"CPU parallel\")"
   ]
  },
  {
   "cell_type": "code",
   "execution_count": 14,
   "metadata": {},
   "outputs": [],
   "source": [
    "!rm -f cppsort_parallel.pyx  # cleanup temp file"
   ]
  },
  {
   "cell_type": "markdown",
   "metadata": {},
   "source": [
    "## `std::sort` on the GPU using stdpar"
   ]
  },
  {
   "cell_type": "markdown",
   "metadata": {},
   "source": [
    "Finally, `cppsort_stdpar` below is compiled with `nvc++` and the [stdpar](https://developer.nvidia.com/blog/accelerating-standard-c-with-gpus-using-stdpar/) option. This will offload execution to the GPU.\n",
    "\n",
    "Also note that the input is copied to a (temporary) local buffer and back. This is required because `-stdpar` does not work with externally allocated memory."
   ]
  },
  {
   "cell_type": "code",
   "execution_count": 15,
   "metadata": {},
   "outputs": [
    {
     "name": "stdout",
     "output_type": "stream",
     "text": [
      "Writing cppsort_stdpar.pyx\n"
     ]
    }
   ],
   "source": [
    "%%writefile cppsort_stdpar.pyx\n",
    "\n",
    "# distutils: language=c++\n",
    "\n",
    "from libcpp.algorithm cimport copy_n\n",
    "from libcpp.vector cimport vector\n",
    "\n",
    "from execution cimport par\n",
    "from algorithm cimport sort\n",
    "\n",
    "\n",
    "def cppsort(int[:] x):\n",
    "    \"\"\"\n",
    "    Sort the elements of x \"in-place\" using std::sort\n",
    "    \"\"\"\n",
    "    cdef vector[int] vec\n",
    "    vec.resize(len(x))\n",
    "    copy_n(&x[0], len(x), vec.begin())\n",
    "    sort(par, vec.begin(), vec.end())\n",
    "    copy_n(vec.begin(), len(x), &x[0])"
   ]
  },
  {
   "cell_type": "code",
   "execution_count": 16,
   "metadata": {},
   "outputs": [],
   "source": [
    "%%capture\n",
    "!CC=nvc++ python setup.py build_ext --inplace"
   ]
  },
  {
   "cell_type": "code",
   "execution_count": 17,
   "metadata": {},
   "outputs": [
    {
     "data": {
      "text/html": [
       "<div>\n",
       "<style scoped>\n",
       "    .dataframe tbody tr th:only-of-type {\n",
       "        vertical-align: middle;\n",
       "    }\n",
       "\n",
       "    .dataframe tbody tr th {\n",
       "        vertical-align: top;\n",
       "    }\n",
       "\n",
       "    .dataframe thead th {\n",
       "        text-align: right;\n",
       "    }\n",
       "</style>\n",
       "<table border=\"1\" class=\"dataframe\">\n",
       "  <thead>\n",
       "    <tr style=\"text-align: right;\">\n",
       "      <th></th>\n",
       "      <th>GPU (nvc++ with -stdpar)</th>\n",
       "    </tr>\n",
       "  </thead>\n",
       "  <tbody>\n",
       "    <tr>\n",
       "      <th>100</th>\n",
       "      <td>15.114675089716911 ms</td>\n",
       "    </tr>\n",
       "    <tr>\n",
       "      <th>1000</th>\n",
       "      <td>449.48142021894455 µs</td>\n",
       "    </tr>\n",
       "    <tr>\n",
       "      <th>10000</th>\n",
       "      <td>1.4754476957023142 ms</td>\n",
       "    </tr>\n",
       "    <tr>\n",
       "      <th>100000</th>\n",
       "      <td>1.4740454033017159 ms</td>\n",
       "    </tr>\n",
       "    <tr>\n",
       "      <th>1000000</th>\n",
       "      <td>3.762143664062023 ms</td>\n",
       "    </tr>\n",
       "    <tr>\n",
       "      <th>10000000</th>\n",
       "      <td>32.95509219169617 ms</td>\n",
       "    </tr>\n",
       "  </tbody>\n",
       "</table>\n",
       "</div>"
      ],
      "text/plain": [
       "         GPU (nvc++ with -stdpar)\n",
       "100         15.114675089716911 ms\n",
       "1000        449.48142021894455 µs\n",
       "10000       1.4754476957023142 ms\n",
       "100000      1.4740454033017159 ms\n",
       "1000000      3.762143664062023 ms\n",
       "10000000     32.95509219169617 ms"
      ]
     },
     "execution_count": 17,
     "metadata": {},
     "output_type": "execute_result"
    }
   ],
   "source": [
    "from cppsort_stdpar import cppsort\n",
    "\n",
    "gpu_stdpar = run_benchmark(cppsort, \"GPU (nvc++ with -stdpar)\")\n",
    "gpu_stdpar.map(format_time).to_frame()"
   ]
  },
  {
   "cell_type": "code",
   "execution_count": 23,
   "metadata": {},
   "outputs": [],
   "source": [
    "!rm -f cppsort_sdpar.pyx"
   ]
  },
  {
   "cell_type": "markdown",
   "metadata": {},
   "source": [
    "## Comparing performance"
   ]
  },
  {
   "cell_type": "markdown",
   "metadata": {},
   "source": [
    "Finally, we plot the speedups over a baseline implementation (NumPy's `.sort()` method):"
   ]
  },
  {
   "cell_type": "code",
   "execution_count": 18,
   "metadata": {},
   "outputs": [],
   "source": [
    "baseline = run_benchmark(lambda x: x.sort(), \"NumPy\")"
   ]
  },
  {
   "cell_type": "code",
   "execution_count": 19,
   "metadata": {},
   "outputs": [],
   "source": [
    "all_timings = pd.DataFrame([baseline, cpu_serial, cpu_parallel, gpu_stdpar]).T\n",
    "speedups = (1/all_timings).multiply(baseline, axis=0)"
   ]
  },
  {
   "cell_type": "code",
   "execution_count": 20,
   "metadata": {},
   "outputs": [
    {
     "data": {
      "text/html": [
       "<div>\n",
       "<style scoped>\n",
       "    .dataframe tbody tr th:only-of-type {\n",
       "        vertical-align: middle;\n",
       "    }\n",
       "\n",
       "    .dataframe tbody tr th {\n",
       "        vertical-align: top;\n",
       "    }\n",
       "\n",
       "    .dataframe thead th {\n",
       "        text-align: right;\n",
       "    }\n",
       "</style>\n",
       "<table border=\"1\" class=\"dataframe\">\n",
       "  <thead>\n",
       "    <tr style=\"text-align: right;\">\n",
       "      <th></th>\n",
       "      <th>NumPy</th>\n",
       "      <th>CPU serial</th>\n",
       "      <th>CPU parallel</th>\n",
       "      <th>GPU (nvc++ with -stdpar)</th>\n",
       "    </tr>\n",
       "  </thead>\n",
       "  <tbody>\n",
       "    <tr>\n",
       "      <th>100</th>\n",
       "      <td>39.60849717259408 µs</td>\n",
       "      <td>12.882146984338762 µs</td>\n",
       "      <td>nan sec</td>\n",
       "      <td>15.114675089716911 ms</td>\n",
       "    </tr>\n",
       "    <tr>\n",
       "      <th>1000</th>\n",
       "      <td>32.3837623000145 µs</td>\n",
       "      <td>114.0187494456768 µs</td>\n",
       "      <td>nan sec</td>\n",
       "      <td>449.48142021894455 µs</td>\n",
       "    </tr>\n",
       "    <tr>\n",
       "      <th>10000</th>\n",
       "      <td>420.46997696161276 µs</td>\n",
       "      <td>951.5411220490932 µs</td>\n",
       "      <td>nan sec</td>\n",
       "      <td>1.4754476957023142 ms</td>\n",
       "    </tr>\n",
       "    <tr>\n",
       "      <th>100000</th>\n",
       "      <td>5.255523230880498 ms</td>\n",
       "      <td>5.977822653949261 ms</td>\n",
       "      <td>nan sec</td>\n",
       "      <td>1.4740454033017159 ms</td>\n",
       "    </tr>\n",
       "    <tr>\n",
       "      <th>1000000</th>\n",
       "      <td>62.99431426450611 ms</td>\n",
       "      <td>69.14751594886184 ms</td>\n",
       "      <td>nan sec</td>\n",
       "      <td>3.762143664062023 ms</td>\n",
       "    </tr>\n",
       "    <tr>\n",
       "      <th>10000000</th>\n",
       "      <td>733.9976635761559 ms</td>\n",
       "      <td>803.4838857129216 ms</td>\n",
       "      <td>nan sec</td>\n",
       "      <td>32.95509219169617 ms</td>\n",
       "    </tr>\n",
       "  </tbody>\n",
       "</table>\n",
       "</div>"
      ],
      "text/plain": [
       "                          NumPy             CPU serial CPU parallel  \\\n",
       "100        39.60849717259408 µs  12.882146984338762 µs      nan sec   \n",
       "1000        32.3837623000145 µs   114.0187494456768 µs      nan sec   \n",
       "10000     420.46997696161276 µs   951.5411220490932 µs      nan sec   \n",
       "100000     5.255523230880498 ms   5.977822653949261 ms      nan sec   \n",
       "1000000    62.99431426450611 ms   69.14751594886184 ms      nan sec   \n",
       "10000000   733.9976635761559 ms   803.4838857129216 ms      nan sec   \n",
       "\n",
       "         GPU (nvc++ with -stdpar)  \n",
       "100         15.114675089716911 ms  \n",
       "1000        449.48142021894455 µs  \n",
       "10000       1.4754476957023142 ms  \n",
       "100000      1.4740454033017159 ms  \n",
       "1000000      3.762143664062023 ms  \n",
       "10000000     32.95509219169617 ms  "
      ]
     },
     "execution_count": 20,
     "metadata": {},
     "output_type": "execute_result"
    }
   ],
   "source": [
    "all_timings.applymap(format_time)"
   ]
  },
  {
   "cell_type": "code",
   "execution_count": 21,
   "metadata": {},
   "outputs": [
    {
     "data": {
      "image/png": "[encoded data removed]",
      "text/plain": [
       "<Figure size 720x360 with 1 Axes>"
      ]
     },
     "metadata": {
      "needs_background": "light"
     },
     "output_type": "display_data"
    }
   ],
   "source": [
    "speedups.iloc[:, 1:].plot(\n",
    "    kind=\"bar\", \n",
    "    xlabel=\"Number of elements in input array\", \n",
    "    ylabel=\"Speedup v/s NumPy .sort()\", \n",
    "    figsize=(10, 5),\n",
    "    grid=True\n",
    ")\n",
    "plt.xticks(rotation=0)\n",
    "plt.savefig(\"sort.png\")"
   ]
  }
 ],
 "metadata": {
  "kernelspec": {
   "display_name": "Python 3",
   "language": "python",
   "name": "python3"
  },
  "language_info": {
   "codemirror_mode": {
    "name": "ipython",
    "version": 3
   },
   "file_extension": ".py",
   "mimetype": "text/x-python",
   "name": "python",
   "nbconvert_exporter": "python",
   "pygments_lexer": "ipython3",
   "version": "3.8.5"
  }
 },
 "nbformat": 4,
 "nbformat_minor": 4
}
