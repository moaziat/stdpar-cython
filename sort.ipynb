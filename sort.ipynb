{
 "cells": [
  {
   "cell_type": "markdown",
   "metadata": {},
   "source": [
    "# Example 1: Sorting on the GPU using Cython and stdpar"
   ]
  },
  {
   "cell_type": "markdown",
   "metadata": {},
   "source": [
    "This is a notebook demonstrating how to use Cython and [stdpar](https://developer.nvidia.com/blog/accelerating-standard-c-with-gpus-using-stdpar/) to accelerate Python code.\n",
    "\n",
    "This example is centered on a simple task: sorting a sequence of integers"
   ]
  },
  {
   "cell_type": "markdown",
   "metadata": {},
   "source": [
    "## Setup <a name=\"setup\"></a>"
   ]
  },
  {
   "cell_type": "markdown",
   "metadata": {},
   "source": [
    "Some essential imports and utility functions:"
   ]
  },
  {
   "cell_type": "code",
   "execution_count": 1,
   "metadata": {},
   "outputs": [],
   "source": [
    "import timeit\n",
    "\n",
    "import numpy as np\n",
    "import pandas as pd\n",
    "import matplotlib.pyplot as plt\n",
    "\n",
    "from utils import format_time"
   ]
  },
  {
   "cell_type": "code",
   "execution_count": 2,
   "metadata": {},
   "outputs": [],
   "source": [
    "plt.rcParams.update({'font.size': 15})"
   ]
  },
  {
   "cell_type": "code",
   "execution_count": 3,
   "metadata": {},
   "outputs": [],
   "source": [
    "def random_data(size):\n",
    "    return np.random.randint(size, size=size, dtype=\"int32\")"
   ]
  },
  {
   "cell_type": "code",
   "execution_count": 4,
   "metadata": {},
   "outputs": [],
   "source": [
    "def time_sort(size, sort_func):    \n",
    "    repeat = 10\n",
    "    dt = 0\n",
    "    for i in range(repeat):\n",
    "        data = random_data(size)\n",
    "        start = timeit.default_timer()\n",
    "        sort_func(data)\n",
    "        end = timeit.default_timer()\n",
    "        dt += (end - start)\n",
    "    return (dt) / repeat"
   ]
  },
  {
   "cell_type": "code",
   "execution_count": 5,
   "metadata": {},
   "outputs": [],
   "source": [
    "def run_benchmark(sort_func, name):\n",
    "    sizes = [100, 1_000, 10_000, 100_000, 1_000_000, 10_000_000]\n",
    "    return pd.Series(\n",
    "        [time_sort(s, sort_func) for s in sizes],\n",
    "        index=sizes,\n",
    "        name=name\n",
    "    )"
   ]
  },
  {
   "cell_type": "markdown",
   "metadata": {},
   "source": [
    "## Calling `std::sort` from Cython"
   ]
  },
  {
   "cell_type": "markdown",
   "metadata": {},
   "source": [
    "In `cppsort_serial.pyx` below, we define a function `cppsort` that uses the C++ `std::sort` function to sort an input array:"
   ]
  },
  {
   "cell_type": "code",
   "execution_count": 6,
   "metadata": {},
   "outputs": [
    {
     "name": "stdout",
     "output_type": "stream",
     "text": [
      "Overwriting cppsort_serial.pyx\n"
     ]
    }
   ],
   "source": [
    "%%writefile cppsort_serial.pyx\n",
    "\n",
    "# distutils: language=c++\n",
    "\n",
    "from libcpp.algorithm cimport sort\n",
    "\n",
    "def cppsort(int[:] x):\n",
    "    sort(&x[0], &x[-1] + 1) "
   ]
  },
  {
   "cell_type": "markdown",
   "metadata": {},
   "source": [
    "To use the `cppsort` function from Python, we need to first build it into an extension module. The following cell does that. Uncomment the `%%capture` line to see the output from the command or to debug any issues."
   ]
  },
  {
   "cell_type": "code",
   "execution_count": 7,
   "metadata": {},
   "outputs": [],
   "source": [
    "%%capture\n",
    "!python setup.py build_ext --inplace"
   ]
  },
  {
   "cell_type": "markdown",
   "metadata": {},
   "source": [
    "The following code times the execution of `cppsort` for various input sizes, and prints the results:"
   ]
  },
  {
   "cell_type": "code",
   "execution_count": 8,
   "metadata": {},
   "outputs": [
    {
     "data": {
      "text/html": [
       "<div>\n",
       "<style scoped>\n",
       "    .dataframe tbody tr th:only-of-type {\n",
       "        vertical-align: middle;\n",
       "    }\n",
       "\n",
       "    .dataframe tbody tr th {\n",
       "        vertical-align: top;\n",
       "    }\n",
       "\n",
       "    .dataframe thead th {\n",
       "        text-align: right;\n",
       "    }\n",
       "</style>\n",
       "<table border=\"1\" class=\"dataframe\">\n",
       "  <thead>\n",
       "    <tr style=\"text-align: right;\">\n",
       "      <th></th>\n",
       "      <th>CPU serial</th>\n",
       "    </tr>\n",
       "  </thead>\n",
       "  <tbody>\n",
       "    <tr>\n",
       "      <th>100</th>\n",
       "      <td>12.201257050037384 µs</td>\n",
       "    </tr>\n",
       "    <tr>\n",
       "      <th>1000</th>\n",
       "      <td>96.69922292232513 µs</td>\n",
       "    </tr>\n",
       "    <tr>\n",
       "      <th>10000</th>\n",
       "      <td>1.017543114721775 ms</td>\n",
       "    </tr>\n",
       "    <tr>\n",
       "      <th>100000</th>\n",
       "      <td>5.62964603304863 ms</td>\n",
       "    </tr>\n",
       "    <tr>\n",
       "      <th>1000000</th>\n",
       "      <td>63.40961214154958 ms</td>\n",
       "    </tr>\n",
       "    <tr>\n",
       "      <th>10000000</th>\n",
       "      <td>735.7952429912983 ms</td>\n",
       "    </tr>\n",
       "  </tbody>\n",
       "</table>\n",
       "</div>"
      ],
      "text/plain": [
       "                     CPU serial\n",
       "100       12.201257050037384 µs\n",
       "1000       96.69922292232513 µs\n",
       "10000      1.017543114721775 ms\n",
       "100000      5.62964603304863 ms\n",
       "1000000    63.40961214154958 ms\n",
       "10000000   735.7952429912983 ms"
      ]
     },
     "execution_count": 8,
     "metadata": {},
     "output_type": "execute_result"
    }
   ],
   "source": [
    "from cppsort_serial import cppsort\n",
    "\n",
    "cpu_serial = run_benchmark(cppsort, \"CPU serial\")\n",
    "cpu_serial.map(format_time).to_frame()"
   ]
  },
  {
   "cell_type": "markdown",
   "metadata": {},
   "source": [
    "## Parallelizing `std::sort` using CPU threads"
   ]
  },
  {
   "cell_type": "markdown",
   "metadata": {},
   "source": [
    "We extend the `cppsort` function above by passing the [parallel execution policy](https://en.cppreference.com/w/cpp/algorithm/execution_policy_tag_t) to `std::sort`. For this to work correctly, we must link the [tbb](https://github.com/oneapi-src/oneTBB) library, which provides a parallel implementation of `std::sort`."
   ]
  },
  {
   "cell_type": "code",
   "execution_count": 9,
   "metadata": {},
   "outputs": [
    {
     "name": "stdout",
     "output_type": "stream",
     "text": [
      "Overwriting cppsort_parallel.pyx\n"
     ]
    }
   ],
   "source": [
    "%%writefile cppsort_parallel.pyx\n",
    "\n",
    "# distutils: language=c++\n",
    "# distutils: libraries=tbb\n",
    "\n",
    "from libcpp.algorithm cimport sort\n",
    "from libcpp.execution cimport par\n",
    "\n",
    "def cppsort(int[:] x):\n",
    "    sort(par, &x[0], &x[-1] + 1)"
   ]
  },
  {
   "cell_type": "code",
   "execution_count": 10,
   "metadata": {},
   "outputs": [],
   "source": [
    "%%capture\n",
    "!python setup.py build_ext --inplace"
   ]
  },
  {
   "cell_type": "code",
   "execution_count": 11,
   "metadata": {},
   "outputs": [
    {
     "data": {
      "text/html": [
       "<div>\n",
       "<style scoped>\n",
       "    .dataframe tbody tr th:only-of-type {\n",
       "        vertical-align: middle;\n",
       "    }\n",
       "\n",
       "    .dataframe tbody tr th {\n",
       "        vertical-align: top;\n",
       "    }\n",
       "\n",
       "    .dataframe thead th {\n",
       "        text-align: right;\n",
       "    }\n",
       "</style>\n",
       "<table border=\"1\" class=\"dataframe\">\n",
       "  <thead>\n",
       "    <tr style=\"text-align: right;\">\n",
       "      <th></th>\n",
       "      <th>CPU parallel</th>\n",
       "    </tr>\n",
       "  </thead>\n",
       "  <tbody>\n",
       "    <tr>\n",
       "      <th>100</th>\n",
       "      <td>257.609598338604 µs</td>\n",
       "    </tr>\n",
       "    <tr>\n",
       "      <th>1000</th>\n",
       "      <td>108.99454355239868 µs</td>\n",
       "    </tr>\n",
       "    <tr>\n",
       "      <th>10000</th>\n",
       "      <td>293.38765889406204 µs</td>\n",
       "    </tr>\n",
       "    <tr>\n",
       "      <th>100000</th>\n",
       "      <td>1.415435504168272 ms</td>\n",
       "    </tr>\n",
       "    <tr>\n",
       "      <th>1000000</th>\n",
       "      <td>11.18775550276041 ms</td>\n",
       "    </tr>\n",
       "    <tr>\n",
       "      <th>10000000</th>\n",
       "      <td>133.7025387212634 ms</td>\n",
       "    </tr>\n",
       "  </tbody>\n",
       "</table>\n",
       "</div>"
      ],
      "text/plain": [
       "                   CPU parallel\n",
       "100         257.609598338604 µs\n",
       "1000      108.99454355239868 µs\n",
       "10000     293.38765889406204 µs\n",
       "100000     1.415435504168272 ms\n",
       "1000000    11.18775550276041 ms\n",
       "10000000   133.7025387212634 ms"
      ]
     },
     "execution_count": 11,
     "metadata": {},
     "output_type": "execute_result"
    }
   ],
   "source": [
    "from cppsort_parallel import cppsort\n",
    "\n",
    "cpu_parallel = run_benchmark(cppsort, \"CPU parallel\")\n",
    "cpu_parallel.map(format_time).to_frame()"
   ]
  },
  {
   "cell_type": "markdown",
   "metadata": {},
   "source": [
    "## `std::sort` on the GPU using stdpar"
   ]
  },
  {
   "cell_type": "markdown",
   "metadata": {},
   "source": [
    "Finally, `cppsort_stdpar` below is compiled with `nvc++` and the [stdpar](https://developer.nvidia.com/blog/accelerating-standard-c-with-gpus-using-stdpar/) option. This will offload execution to the GPU.\n",
    "\n",
    "Also note that the input is copied to a (temporary) local buffer and back. This is required because `-stdpar` does not work with externally allocated memory."
   ]
  },
  {
   "cell_type": "code",
   "execution_count": 12,
   "metadata": {},
   "outputs": [
    {
     "name": "stdout",
     "output_type": "stream",
     "text": [
      "Overwriting cppsort_stdpar.pyx\n"
     ]
    }
   ],
   "source": [
    "%%writefile cppsort_stdpar.pyx\n",
    "\n",
    "# distutils: language=c++\n",
    "\n",
    "from libcpp.algorithm cimport sort, copy_n\n",
    "from libcpp.execution cimport par\n",
    "from libcpp.vector cimport vector\n",
    "\n",
    "def cppsort(int[:] x):\n",
    "    \"\"\"\n",
    "    Sort the elements of x \"in-place\" using std::sort\n",
    "    \"\"\"\n",
    "    cdef vector[int] vec\n",
    "    vec.resize(len(x))\n",
    "    copy_n(&x[0], len(x), vec.begin())\n",
    "    sort(par, vec.begin(), vec.end())\n",
    "    copy_n(vec.begin(), len(x), &x[0])"
   ]
  },
  {
   "cell_type": "code",
   "execution_count": 13,
   "metadata": {},
   "outputs": [],
   "source": [
    "%%capture\n",
    "!CC=nvc++ python setup.py build_ext --inplace"
   ]
  },
  {
   "cell_type": "code",
   "execution_count": 14,
   "metadata": {},
   "outputs": [
    {
     "data": {
      "text/html": [
       "<div>\n",
       "<style scoped>\n",
       "    .dataframe tbody tr th:only-of-type {\n",
       "        vertical-align: middle;\n",
       "    }\n",
       "\n",
       "    .dataframe tbody tr th {\n",
       "        vertical-align: top;\n",
       "    }\n",
       "\n",
       "    .dataframe thead th {\n",
       "        text-align: right;\n",
       "    }\n",
       "</style>\n",
       "<table border=\"1\" class=\"dataframe\">\n",
       "  <thead>\n",
       "    <tr style=\"text-align: right;\">\n",
       "      <th></th>\n",
       "      <th>GPU (nvc++ with -stdpar)</th>\n",
       "    </tr>\n",
       "  </thead>\n",
       "  <tbody>\n",
       "    <tr>\n",
       "      <th>100</th>\n",
       "      <td>15.37054879590869 ms</td>\n",
       "    </tr>\n",
       "    <tr>\n",
       "      <th>1000</th>\n",
       "      <td>421.5368069708348 µs</td>\n",
       "    </tr>\n",
       "    <tr>\n",
       "      <th>10000</th>\n",
       "      <td>1.5751022845506668 ms</td>\n",
       "    </tr>\n",
       "    <tr>\n",
       "      <th>100000</th>\n",
       "      <td>1.1641972698271275 ms</td>\n",
       "    </tr>\n",
       "    <tr>\n",
       "      <th>1000000</th>\n",
       "      <td>3.7802746519446373 ms</td>\n",
       "    </tr>\n",
       "    <tr>\n",
       "      <th>10000000</th>\n",
       "      <td>33.41869032010436 ms</td>\n",
       "    </tr>\n",
       "  </tbody>\n",
       "</table>\n",
       "</div>"
      ],
      "text/plain": [
       "         GPU (nvc++ with -stdpar)\n",
       "100          15.37054879590869 ms\n",
       "1000         421.5368069708348 µs\n",
       "10000       1.5751022845506668 ms\n",
       "100000      1.1641972698271275 ms\n",
       "1000000     3.7802746519446373 ms\n",
       "10000000     33.41869032010436 ms"
      ]
     },
     "execution_count": 14,
     "metadata": {},
     "output_type": "execute_result"
    }
   ],
   "source": [
    "from cppsort_stdpar import cppsort\n",
    "\n",
    "gpu_stdpar = run_benchmark(cppsort, \"GPU (nvc++ with -stdpar)\")\n",
    "gpu_stdpar.map(format_time).to_frame()"
   ]
  },
  {
   "cell_type": "markdown",
   "metadata": {},
   "source": [
    "## Comparing performance"
   ]
  },
  {
   "cell_type": "markdown",
   "metadata": {},
   "source": [
    "Finally, we plot the speedups over a baseline implementation (NumPy's `.sort()` method):"
   ]
  },
  {
   "cell_type": "code",
   "execution_count": 15,
   "metadata": {},
   "outputs": [],
   "source": [
    "baseline = run_benchmark(lambda x: x.sort(), \"NumPy\")"
   ]
  },
  {
   "cell_type": "code",
   "execution_count": 16,
   "metadata": {},
   "outputs": [],
   "source": [
    "all_timings = pd.DataFrame([baseline, cpu_serial, cpu_parallel, gpu_stdpar]).T\n",
    "speedups = (1/all_timings).multiply(baseline, axis=0)"
   ]
  },
  {
   "cell_type": "code",
   "execution_count": 17,
   "metadata": {},
   "outputs": [
    {
     "data": {
      "text/html": [
       "<div>\n",
       "<style scoped>\n",
       "    .dataframe tbody tr th:only-of-type {\n",
       "        vertical-align: middle;\n",
       "    }\n",
       "\n",
       "    .dataframe tbody tr th {\n",
       "        vertical-align: top;\n",
       "    }\n",
       "\n",
       "    .dataframe thead th {\n",
       "        text-align: right;\n",
       "    }\n",
       "</style>\n",
       "<table border=\"1\" class=\"dataframe\">\n",
       "  <thead>\n",
       "    <tr style=\"text-align: right;\">\n",
       "      <th></th>\n",
       "      <th>NumPy</th>\n",
       "      <th>CPU serial</th>\n",
       "      <th>CPU parallel</th>\n",
       "      <th>GPU (nvc++ with -stdpar)</th>\n",
       "    </tr>\n",
       "  </thead>\n",
       "  <tbody>\n",
       "    <tr>\n",
       "      <th>100</th>\n",
       "      <td>34.810882061719894 µs</td>\n",
       "      <td>12.201257050037384 µs</td>\n",
       "      <td>257.609598338604 µs</td>\n",
       "      <td>15.37054879590869 ms</td>\n",
       "    </tr>\n",
       "    <tr>\n",
       "      <th>1000</th>\n",
       "      <td>45.761838555336 µs</td>\n",
       "      <td>96.69922292232513 µs</td>\n",
       "      <td>108.99454355239868 µs</td>\n",
       "      <td>421.5368069708348 µs</td>\n",
       "    </tr>\n",
       "    <tr>\n",
       "      <th>10000</th>\n",
       "      <td>422.31082916259766 µs</td>\n",
       "      <td>1.017543114721775 ms</td>\n",
       "      <td>293.38765889406204 µs</td>\n",
       "      <td>1.5751022845506668 ms</td>\n",
       "    </tr>\n",
       "    <tr>\n",
       "      <th>100000</th>\n",
       "      <td>5.249424651265144 ms</td>\n",
       "      <td>5.62964603304863 ms</td>\n",
       "      <td>1.415435504168272 ms</td>\n",
       "      <td>1.1641972698271275 ms</td>\n",
       "    </tr>\n",
       "    <tr>\n",
       "      <th>1000000</th>\n",
       "      <td>62.72488702088594 ms</td>\n",
       "      <td>63.40961214154958 ms</td>\n",
       "      <td>11.18775550276041 ms</td>\n",
       "      <td>3.7802746519446373 ms</td>\n",
       "    </tr>\n",
       "    <tr>\n",
       "      <th>10000000</th>\n",
       "      <td>735.0103099830449 ms</td>\n",
       "      <td>735.7952429912983 ms</td>\n",
       "      <td>133.7025387212634 ms</td>\n",
       "      <td>33.41869032010436 ms</td>\n",
       "    </tr>\n",
       "  </tbody>\n",
       "</table>\n",
       "</div>"
      ],
      "text/plain": [
       "                          NumPy             CPU serial           CPU parallel  \\\n",
       "100       34.810882061719894 µs  12.201257050037384 µs    257.609598338604 µs   \n",
       "1000         45.761838555336 µs   96.69922292232513 µs  108.99454355239868 µs   \n",
       "10000     422.31082916259766 µs   1.017543114721775 ms  293.38765889406204 µs   \n",
       "100000     5.249424651265144 ms    5.62964603304863 ms   1.415435504168272 ms   \n",
       "1000000    62.72488702088594 ms   63.40961214154958 ms   11.18775550276041 ms   \n",
       "10000000   735.0103099830449 ms   735.7952429912983 ms   133.7025387212634 ms   \n",
       "\n",
       "         GPU (nvc++ with -stdpar)  \n",
       "100          15.37054879590869 ms  \n",
       "1000         421.5368069708348 µs  \n",
       "10000       1.5751022845506668 ms  \n",
       "100000      1.1641972698271275 ms  \n",
       "1000000     3.7802746519446373 ms  \n",
       "10000000     33.41869032010436 ms  "
      ]
     },
     "execution_count": 17,
     "metadata": {},
     "output_type": "execute_result"
    }
   ],
   "source": [
    "all_timings.applymap(format_time)"
   ]
  },
  {
   "cell_type": "code",
   "execution_count": 20,
   "metadata": {},
   "outputs": [
    {
     "data": {
      "image/png": "[encoded data removed]",
      "text/plain": [
       "<Figure size 720x360 with 1 Axes>"
      ]
     },
     "metadata": {
      "needs_background": "light"
     },
     "output_type": "display_data"
    }
   ],
   "source": [
    "speedups.iloc[:, 1:].plot(\n",
    "    kind=\"bar\", \n",
    "    xlabel=\"Number of elements in input array\", \n",
    "    ylabel=\"Speedup v/s NumPy .sort()\", \n",
    "    figsize=(10, 5),\n",
    "    grid=True\n",
    ")\n",
    "plt.xticks(rotation=0)\n",
    "plt.savefig(\"sort.png\")"
   ]
  },
  {
   "cell_type": "code",
   "execution_count": null,
   "metadata": {},
   "outputs": [],
   "source": []
  }
 ],
 "metadata": {
  "kernelspec": {
   "display_name": "Python 3",
   "language": "python",
   "name": "python3"
  },
  "language_info": {
   "codemirror_mode": {
    "name": "ipython",
    "version": 3
   },
   "file_extension": ".py",
   "mimetype": "text/x-python",
   "name": "python",
   "nbconvert_exporter": "python",
   "pygments_lexer": "ipython3",
   "version": "3.8.5"
  }
 },
 "nbformat": 4,
 "nbformat_minor": 4
}
