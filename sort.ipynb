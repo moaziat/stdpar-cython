{
 "cells": [
  {
   "cell_type": "markdown",
   "metadata": {},
   "source": [
    "# Using Cython and stdpar to write GPU accelerated Python"
   ]
  },
  {
   "cell_type": "markdown",
   "metadata": {},
   "source": [
    "This is a simple demonstration of to use Cython and [stdpar](https://developer.nvidia.com/blog/accelerating-standard-c-with-gpus-using-stdpar/) to write GPU accelerated Python."
   ]
  },
  {
   "cell_type": "code",
   "execution_count": 1,
   "metadata": {},
   "outputs": [],
   "source": [
    "import timeit\n",
    "\n",
    "import numpy as np\n",
    "import pandas as pd\n",
    "\n",
    "from utils import format_time"
   ]
  },
  {
   "cell_type": "code",
   "execution_count": 2,
   "metadata": {},
   "outputs": [],
   "source": [
    "def random_data(size):\n",
    "    return np.random.randint(size, size=size, dtype=\"int32\")"
   ]
  },
  {
   "cell_type": "code",
   "execution_count": 3,
   "metadata": {},
   "outputs": [],
   "source": [
    "def time_sort(size, sort_func):    \n",
    "    repeat = 10\n",
    "    dt = 0\n",
    "    for i in range(repeat):\n",
    "        data = random_data(size)\n",
    "        start = timeit.default_timer()\n",
    "        sort_func(data)\n",
    "        end = timeit.default_timer()\n",
    "        dt += (end - start)\n",
    "    return (dt) / repeat"
   ]
  },
  {
   "cell_type": "markdown",
   "metadata": {},
   "source": [
    "## Timing NumPy `.sort()`"
   ]
  },
  {
   "cell_type": "markdown",
   "metadata": {},
   "source": [
    "Below, we time the execution of Numpy's `.sort()` method for various different input sizes."
   ]
  },
  {
   "cell_type": "code",
   "execution_count": 4,
   "metadata": {},
   "outputs": [],
   "source": [
    "sizes = [100, 1_000, 10_000, 100_000, 1_000_000, 10_000_000]"
   ]
  },
  {
   "cell_type": "code",
   "execution_count": 5,
   "metadata": {},
   "outputs": [
    {
     "data": {
      "text/html": [
       "<div>\n",
       "<style scoped>\n",
       "    .dataframe tbody tr th:only-of-type {\n",
       "        vertical-align: middle;\n",
       "    }\n",
       "\n",
       "    .dataframe tbody tr th {\n",
       "        vertical-align: top;\n",
       "    }\n",
       "\n",
       "    .dataframe thead th {\n",
       "        text-align: right;\n",
       "    }\n",
       "</style>\n",
       "<table border=\"1\" class=\"dataframe\">\n",
       "  <thead>\n",
       "    <tr style=\"text-align: right;\">\n",
       "      <th></th>\n",
       "      <th>ndarray.sort()</th>\n",
       "    </tr>\n",
       "  </thead>\n",
       "  <tbody>\n",
       "    <tr>\n",
       "      <th>100</th>\n",
       "      <td>45.78977823257446 µs</td>\n",
       "    </tr>\n",
       "    <tr>\n",
       "      <th>1000</th>\n",
       "      <td>100.04015639424325 µs</td>\n",
       "    </tr>\n",
       "    <tr>\n",
       "      <th>10000</th>\n",
       "      <td>647.4614143371582 µs</td>\n",
       "    </tr>\n",
       "    <tr>\n",
       "      <th>100000</th>\n",
       "      <td>5.242524016648531 ms</td>\n",
       "    </tr>\n",
       "    <tr>\n",
       "      <th>1000000</th>\n",
       "      <td>63.00307260826229 ms</td>\n",
       "    </tr>\n",
       "    <tr>\n",
       "      <th>10000000</th>\n",
       "      <td>733.7048726156354 ms</td>\n",
       "    </tr>\n",
       "  </tbody>\n",
       "</table>\n",
       "</div>"
      ],
      "text/plain": [
       "                 ndarray.sort()\n",
       "100        45.78977823257446 µs\n",
       "1000      100.04015639424325 µs\n",
       "10000      647.4614143371582 µs\n",
       "100000     5.242524016648531 ms\n",
       "1000000    63.00307260826229 ms\n",
       "10000000   733.7048726156354 ms"
      ]
     },
     "execution_count": 5,
     "metadata": {},
     "output_type": "execute_result"
    }
   ],
   "source": [
    "numpy_times = pd.Series(\n",
    "    [time_sort(s, lambda x: x.sort()) for s in sizes],\n",
    "    index=sizes,\n",
    "    name=\"ndarray.sort()\"\n",
    ")\n",
    "numpy_times.map(format_time).to_frame()"
   ]
  },
  {
   "cell_type": "markdown",
   "metadata": {},
   "source": [
    "## Serial `std::sort`"
   ]
  },
  {
   "cell_type": "markdown",
   "metadata": {},
   "source": [
    "In `cppsort_serial.pyx` below, we define a function `cppsort` that uses the C++ `std::sort` function to sort an input array:"
   ]
  },
  {
   "cell_type": "code",
   "execution_count": 6,
   "metadata": {},
   "outputs": [
    {
     "name": "stdout",
     "output_type": "stream",
     "text": [
      "Writing cppsort_serial.pyx\n"
     ]
    }
   ],
   "source": [
    "%%writefile cppsort_serial.pyx\n",
    "\n",
    "# distutils: language=c++\n",
    "\n",
    "from libcpp.algorithm cimport sort\n",
    "\n",
    "def cppsort(int[:] x):\n",
    "    sort(&x[0], &x[-1] + 1)\n",
    "    "
   ]
  },
  {
   "cell_type": "markdown",
   "metadata": {},
   "source": [
    "Building the Cython extension:"
   ]
  },
  {
   "cell_type": "code",
   "execution_count": 7,
   "metadata": {},
   "outputs": [
    {
     "name": "stdout",
     "output_type": "stream",
     "text": [
      "Compiling cppsort_serial.pyx because it changed.\n",
      "[1/1] Cythonizing cppsort_serial.pyx\n",
      "/home/ashwin/workspace/github/cython/cython/Cython/Compiler/Main.py:344: FutureWarning: Cython directive 'language_level' not set, using '3str' for now (Py3). This has changed from earlier releases! File: /home/ashwin/workspace/github/shwina/stdpar-cython/cppsort_serial.pyx\n",
      "  tree = Parsing.p_module(s, pxd, full_module_name)\n",
      "running build_ext\n",
      "building 'cppsort_serial' extension\n",
      "creating build\n",
      "creating build/temp.linux-x86_64-3.8\n",
      "gcc -pthread -B /home/ashwin/miniconda3/envs/cython-dev/compiler_compat -Wl,--sysroot=/ -Wsign-compare -DNDEBUG -g -fwrapv -O3 -Wall -Wstrict-prototypes -fPIC -I/home/ashwin/miniconda3/envs/cython-dev/include/python3.8 -c cppsort_serial.cpp -o build/temp.linux-x86_64-3.8/cppsort_serial.o -std=c++17\n",
      "\u001b[01m\u001b[Kcc1plus:\u001b[m\u001b[K \u001b[01;35m\u001b[Kwarning: \u001b[m\u001b[Kcommand line option ‘\u001b[01m\u001b[K-Wstrict-prototypes\u001b[m\u001b[K’ is valid for C/ObjC but not for C++\n",
      "creating build/lib.linux-x86_64-3.8\n",
      "g++ -pthread -shared -B /home/ashwin/miniconda3/envs/cython-dev/compiler_compat -L/home/ashwin/miniconda3/envs/cython-dev/lib -Wl,-rpath=/home/ashwin/miniconda3/envs/cython-dev/lib -Wl,--no-as-needed -Wl,--sysroot=/ build/temp.linux-x86_64-3.8/cppsort_serial.o -ltbb -o build/lib.linux-x86_64-3.8/cppsort_serial.cpython-38-x86_64-linux-gnu.so\n",
      "copying build/lib.linux-x86_64-3.8/cppsort_serial.cpython-38-x86_64-linux-gnu.so -> \n"
     ]
    }
   ],
   "source": [
    "!python setup.py build_ext --inplace"
   ]
  },
  {
   "cell_type": "markdown",
   "metadata": {},
   "source": [
    "Timing the execution:"
   ]
  },
  {
   "cell_type": "code",
   "execution_count": 8,
   "metadata": {},
   "outputs": [
    {
     "data": {
      "text/html": [
       "<div>\n",
       "<style scoped>\n",
       "    .dataframe tbody tr th:only-of-type {\n",
       "        vertical-align: middle;\n",
       "    }\n",
       "\n",
       "    .dataframe tbody tr th {\n",
       "        vertical-align: top;\n",
       "    }\n",
       "\n",
       "    .dataframe thead th {\n",
       "        text-align: right;\n",
       "    }\n",
       "</style>\n",
       "<table border=\"1\" class=\"dataframe\">\n",
       "  <thead>\n",
       "    <tr style=\"text-align: right;\">\n",
       "      <th></th>\n",
       "      <th>std::sort (serial)</th>\n",
       "    </tr>\n",
       "  </thead>\n",
       "  <tbody>\n",
       "    <tr>\n",
       "      <th>100</th>\n",
       "      <td>12.905709445476532 µs</td>\n",
       "    </tr>\n",
       "    <tr>\n",
       "      <th>1000</th>\n",
       "      <td>84.42457765340805 µs</td>\n",
       "    </tr>\n",
       "    <tr>\n",
       "      <th>10000</th>\n",
       "      <td>934.119150042534 µs</td>\n",
       "    </tr>\n",
       "    <tr>\n",
       "      <th>100000</th>\n",
       "      <td>5.643531121313572 ms</td>\n",
       "    </tr>\n",
       "    <tr>\n",
       "      <th>1000000</th>\n",
       "      <td>63.44097591936588 ms</td>\n",
       "    </tr>\n",
       "    <tr>\n",
       "      <th>10000000</th>\n",
       "      <td>738.6250517331063 ms</td>\n",
       "    </tr>\n",
       "  </tbody>\n",
       "</table>\n",
       "</div>"
      ],
      "text/plain": [
       "             std::sort (serial)\n",
       "100       12.905709445476532 µs\n",
       "1000       84.42457765340805 µs\n",
       "10000       934.119150042534 µs\n",
       "100000     5.643531121313572 ms\n",
       "1000000    63.44097591936588 ms\n",
       "10000000   738.6250517331063 ms"
      ]
     },
     "execution_count": 8,
     "metadata": {},
     "output_type": "execute_result"
    }
   ],
   "source": [
    "from cppsort_serial import cppsort\n",
    "\n",
    "cppsort_serial_times = pd.Series(\n",
    "    [time_sort(s, lambda x: cppsort(x)) for s in sizes],\n",
    "    index=sizes,\n",
    "    name=\"std::sort (serial)\"\n",
    ")\n",
    "cppsort_serial_times.map(format_time).to_frame()"
   ]
  },
  {
   "cell_type": "markdown",
   "metadata": {},
   "source": [
    "## Parallel `std::sort` (CPU)"
   ]
  },
  {
   "cell_type": "markdown",
   "metadata": {},
   "source": [
    "In `cppsort_parallel`, we use a [parallel execution policy](https://en.cppreference.com/w/cpp/algorithm/execution_policy_tag_t) with `std::sort`. When building the extension, we link the [tbb](https://github.com/oneapi-src/oneTBB) library, which provides a parallel implementation of `std::sort`."
   ]
  },
  {
   "cell_type": "code",
   "execution_count": 9,
   "metadata": {},
   "outputs": [
    {
     "name": "stdout",
     "output_type": "stream",
     "text": [
      "Writing cppsort_parallel.pyx\n"
     ]
    }
   ],
   "source": [
    "%%writefile cppsort_parallel.pyx\n",
    "\n",
    "# distutils: language=c++\n",
    "\n",
    "from libcpp.algorithm cimport sort\n",
    "from libcpp.execution cimport par\n",
    "\n",
    "def cppsort(int[:] x):\n",
    "    sort(par, &x[0], &x[-1] + 1)"
   ]
  },
  {
   "cell_type": "code",
   "execution_count": 10,
   "metadata": {},
   "outputs": [
    {
     "name": "stdout",
     "output_type": "stream",
     "text": [
      "Compiling cppsort_parallel.pyx because it changed.\n",
      "[1/1] Cythonizing cppsort_parallel.pyx\n",
      "/home/ashwin/workspace/github/cython/cython/Cython/Compiler/Main.py:344: FutureWarning: Cython directive 'language_level' not set, using '3str' for now (Py3). This has changed from earlier releases! File: /home/ashwin/workspace/github/shwina/stdpar-cython/cppsort_parallel.pyx\n",
      "  tree = Parsing.p_module(s, pxd, full_module_name)\n",
      "running build_ext\n",
      "building 'cppsort_parallel' extension\n",
      "gcc -pthread -B /home/ashwin/miniconda3/envs/cython-dev/compiler_compat -Wl,--sysroot=/ -Wsign-compare -DNDEBUG -g -fwrapv -O3 -Wall -Wstrict-prototypes -fPIC -I/home/ashwin/miniconda3/envs/cython-dev/include/python3.8 -c cppsort_parallel.cpp -o build/temp.linux-x86_64-3.8/cppsort_parallel.o -std=c++17\n",
      "\u001b[01m\u001b[Kcc1plus:\u001b[m\u001b[K \u001b[01;35m\u001b[Kwarning: \u001b[m\u001b[Kcommand line option ‘\u001b[01m\u001b[K-Wstrict-prototypes\u001b[m\u001b[K’ is valid for C/ObjC but not for C++\n",
      "g++ -pthread -shared -B /home/ashwin/miniconda3/envs/cython-dev/compiler_compat -L/home/ashwin/miniconda3/envs/cython-dev/lib -Wl,-rpath=/home/ashwin/miniconda3/envs/cython-dev/lib -Wl,--no-as-needed -Wl,--sysroot=/ build/temp.linux-x86_64-3.8/cppsort_parallel.o -ltbb -o build/lib.linux-x86_64-3.8/cppsort_parallel.cpython-38-x86_64-linux-gnu.so\n",
      "copying build/lib.linux-x86_64-3.8/cppsort_parallel.cpython-38-x86_64-linux-gnu.so -> \n",
      "copying build/lib.linux-x86_64-3.8/cppsort_serial.cpython-38-x86_64-linux-gnu.so -> \n"
     ]
    }
   ],
   "source": [
    "!python setup.py build_ext --inplace"
   ]
  },
  {
   "cell_type": "code",
   "execution_count": 11,
   "metadata": {},
   "outputs": [
    {
     "data": {
      "text/plain": [
       "100          243.1418746709824 µs\n",
       "1000          122.850202023983 µs\n",
       "10000       293.13676059246063 µs\n",
       "100000      1.5057590790092945 ms\n",
       "1000000     11.369879636913538 ms\n",
       "10000000    132.21618216484785 ms\n",
       "Name: std::sort (parallel, CPU), dtype: object"
      ]
     },
     "execution_count": 11,
     "metadata": {},
     "output_type": "execute_result"
    }
   ],
   "source": [
    "from cppsort_parallel import cppsort\n",
    "\n",
    "cppsort_parallel_times = pd.Series(\n",
    "    [time_sort(s, lambda x: cppsort(x)) for s in sizes],\n",
    "    index=sizes,\n",
    "    name=\"std::sort (parallel, CPU)\"\n",
    ")\n",
    "cppsort_parallel_times.map(format_time)"
   ]
  },
  {
   "cell_type": "markdown",
   "metadata": {},
   "source": [
    "## GPU `std::sort` using -stdpar"
   ]
  },
  {
   "cell_type": "markdown",
   "metadata": {},
   "source": [
    "Finally, in `cppsort_stdpar`, `cppsort` is rewritten to copy the input data to a temporary buffer. This is required because `-stdpar` does not work with externally allocated memory. Note that the extension is built with `nvc++` rather than `g++`:"
   ]
  },
  {
   "cell_type": "code",
   "execution_count": 12,
   "metadata": {},
   "outputs": [
    {
     "name": "stdout",
     "output_type": "stream",
     "text": [
      "Writing cppsort_stdpar.pyx\n"
     ]
    }
   ],
   "source": [
    "%%writefile cppsort_stdpar.pyx\n",
    "\n",
    "# distutils: language=c++\n",
    "\n",
    "from libcpp.algorithm cimport sort, copy_n\n",
    "from libcpp.execution cimport par\n",
    "from libcpp.vector cimport vector\n",
    "\n",
    "def cppsort(int[:] x):\n",
    "    \"\"\"\n",
    "    Sort the elements of x \"in-place\" using std::sort\n",
    "    \"\"\"\n",
    "    cdef vector[int] vec\n",
    "    vec.resize(len(x))\n",
    "    copy_n(&x[0], len(x), vec.begin())\n",
    "    sort(par, vec.begin(), vec.end())\n",
    "    copy_n(vec.begin(), len(x), &x[0])"
   ]
  },
  {
   "cell_type": "code",
   "execution_count": 13,
   "metadata": {},
   "outputs": [
    {
     "name": "stdout",
     "output_type": "stream",
     "text": [
      "Compiling cppsort_stdpar.pyx because it changed.\n",
      "[1/1] Cythonizing cppsort_stdpar.pyx\n",
      "/home/ashwin/workspace/github/cython/cython/Cython/Compiler/Main.py:344: FutureWarning: Cython directive 'language_level' not set, using '3str' for now (Py3). This has changed from earlier releases! File: /home/ashwin/workspace/github/shwina/stdpar-cython/cppsort_stdpar.pyx\n",
      "  tree = Parsing.p_module(s, pxd, full_module_name)\n",
      "running build_ext\n",
      "building 'cppsort_stdpar' extension\n",
      "/home/ashwin/tmp/hpc_sdk/Linux_x86_64/dev/compilers/bin/nvc++ -fPIC -stdpar -gpu=nordc -std=c++17 -I/home/ashwin/tmp/hpc_sdk/Linux_x86_64/dev/compilers/include-stdpar -I/home/ashwin/miniconda3/envs/cython-dev/include/python3.8 -c cppsort_stdpar.cpp -o build/temp.linux-x86_64-3.8/cppsort_stdpar.o -std=c++17\n",
      "\"cppsort_stdpar.cpp\", line 18153: warning: variable \"__pyx_lineno\" was set but\n",
      "          never used\n",
      "    int __pyx_lineno = 0;\n",
      "        ^\n",
      "\n",
      "\"cppsort_stdpar.cpp\", line 18154: warning: variable \"__pyx_filename\" was set\n",
      "          but never used\n",
      "    const char *__pyx_filename = NULL;\n",
      "                ^\n",
      "\n",
      "\"cppsort_stdpar.cpp\", line 18155: warning: variable \"__pyx_clineno\" was set but\n",
      "          never used\n",
      "    int __pyx_clineno = 0;\n",
      "        ^\n",
      "\n",
      "\"cppsort_stdpar.cpp\", line 23389: warning: dynamic initialization in\n",
      "          unreachable code\n",
      "          int one = 1; int little = (int)*(unsigned char *)&one;\n",
      "              ^\n",
      "\n",
      "\"cppsort_stdpar.cpp\", line 23553: warning: dynamic initialization in\n",
      "          unreachable code\n",
      "              PyObject *v = __Pyx_PyNumber_IntOrLong(x);\n",
      "                        ^\n",
      "\n",
      "\"cppsort_stdpar.cpp\", line 23631: warning: statement is unreachable\n",
      "                      break;\n",
      "                      ^\n",
      "\n",
      "\"cppsort_stdpar.cpp\", line 23687: warning: statement is unreachable\n",
      "                      break;\n",
      "                      ^\n",
      "\n",
      "\"cppsort_stdpar.cpp\", line 23696: warning: statement is unreachable\n",
      "                      break;\n",
      "                      ^\n",
      "\n",
      "\"cppsort_stdpar.cpp\", line 23749: warning: dynamic initialization in\n",
      "          unreachable code\n",
      "              PyObject *v = __Pyx_PyNumber_IntOrLong(x);\n",
      "                        ^\n",
      "\n",
      "\"cppsort_stdpar.cpp\", line 23819: warning: dynamic initialization in\n",
      "          unreachable code\n",
      "          int one = 1; int little = (int)*(unsigned char *)&one;\n",
      "              ^\n",
      "\n",
      "\"cppsort_stdpar.cpp\", line 23983: warning: dynamic initialization in\n",
      "          unreachable code\n",
      "              PyObject *v = __Pyx_PyNumber_IntOrLong(x);\n",
      "                        ^\n",
      "\n",
      "\"cppsort_stdpar.cpp\", line 24280: warning: statement is unreachable\n",
      "             break;\n",
      "             ^\n",
      "\n",
      "\"cppsort_stdpar.cpp\", line 24285: warning: statement is unreachable\n",
      "             break;\n",
      "             ^\n",
      "\n",
      "\"cppsort_stdpar.cpp\", line 24101: warning: function \"__Pyx_PyObject_AsString\"\n",
      "          was declared but never referenced\n",
      "  static CYTHON_INLINE const char* __Pyx_PyObject_AsString(PyObject* o) {\n",
      "                                   ^\n",
      "\n",
      "\"cppsort_stdpar.cpp\", line 24098: warning: function\n",
      "          \"__Pyx_PyUnicode_FromString\" was declared but never referenced\n",
      "  static CYTHON_INLINE PyObject* __Pyx_PyUnicode_FromString(const char* c_str) {\n",
      "                                 ^\n",
      "\n",
      "\"cppsort_stdpar.cpp\", line 938: warning: function \"__Pyx_Py_UNICODE_strlen\" was\n",
      "          declared but never referenced\n",
      "  static CYTHON_INLINE size_t __Pyx_Py_UNICODE_strlen(const Py_UNICODE *u)\n",
      "                              ^\n",
      "\n",
      "\"cppsort_stdpar.cpp\", line 24175: warning: function\n",
      "          \"__Pyx_PyObject_IsTrueAndDecref\" was declared but never referenced\n",
      "  static CYTHON_INLINE int __Pyx_PyObject_IsTrueAndDecref(PyObject* x) {\n",
      "                           ^\n",
      "\n",
      "\"cppsort_stdpar.cpp\", line 24337: warning: function \"__Pyx_PyInt_FromSize_t\"\n",
      "          was declared but never referenced\n",
      "  static CYTHON_INLINE PyObject * __Pyx_PyInt_FromSize_t(size_t ival) {\n",
      "                                  ^\n",
      "\n",
      "\"cppsort_stdpar.cpp\", line 24317: warning: function \"__Pyx_PyIndex_AsHash_t\"\n",
      "          was declared but never referenced\n",
      "  static CYTHON_INLINE Py_hash_t __Pyx_PyIndex_AsHash_t(PyObject* o) {\n",
      "                                 ^\n",
      "\n",
      "\"cppsort_stdpar.cpp\", line 1055: warning: function\n",
      "          \"__Pyx_pretend_to_initialize\" was declared but never referenced\n",
      "  static CYTHON_INLINE void __Pyx_pretend_to_initialize(void* ptr) { (void)ptr; }\n",
      "                            ^\n",
      "\n",
      "\"cppsort_stdpar.cpp\", line 1066: warning: variable \"__pyx_lineno\" was set but\n",
      "          never used\n",
      "  static int __pyx_lineno;\n",
      "             ^\n",
      "\n",
      "\"cppsort_stdpar.cpp\", line 1067: warning: variable \"__pyx_clineno\" was set but\n",
      "          never used\n",
      "  static int __pyx_clineno = 0;\n",
      "             ^\n",
      "\n",
      "\"cppsort_stdpar.cpp\", line 1069: warning: variable \"__pyx_filename\" was set but\n",
      "          never used\n",
      "  static const char *__pyx_filename;\n",
      "                     ^\n",
      "\n",
      "\"cppsort_stdpar.cpp\", line 18815: warning: function \"__Pyx_PyList_FromArray\"\n",
      "          was declared but never referenced\n",
      "  __Pyx_PyList_FromArray(PyObject *const *src, Py_ssize_t n)\n",
      "  ^\n",
      "\n",
      "\"cppsort_stdpar.cpp\", line 18802: warning: function \"__Pyx_PyTuple_FromArray\"\n",
      "          was declared but never referenced\n",
      "  __Pyx_PyTuple_FromArray(PyObject *const *src, Py_ssize_t n)\n",
      "  ^\n",
      "\n",
      "\"cppsort_stdpar.cpp\", line 18829: warning: function \"__Pyx_PyBytes_Equals\" was\n",
      "          declared but never referenced\n",
      "  static CYTHON_INLINE int __Pyx_PyBytes_Equals(PyObject* s1, PyObject* s2, int equals) {\n",
      "                           ^\n",
      "\n",
      "\"cppsort_stdpar.cpp\", line 1534: warning: variable\n",
      "          \"__pyx_pyframe_localsplus_offset\" was set but never used\n",
      "    static size_t __pyx_pyframe_localsplus_offset = 0;\n",
      "                  ^\n",
      "\n",
      "\"cppsort_stdpar.cpp\", line 20024: warning: function\n",
      "          \"__Pyx_GetItemInt_List_Fast\" was declared but never referenced\n",
      "  static CYTHON_INLINE PyObject *__Pyx_GetItemInt_List_Fast(PyObject *o, Py_ssize_t i,\n",
      "                                 ^\n",
      "\n",
      "\"cppsort_stdpar.cpp\", line 20257: warning: function \"__Pyx_get_tp_dict_version\"\n",
      "          was declared but never referenced\n",
      "  static CYTHON_INLINE PY_UINT64_T __Pyx_get_tp_dict_version(PyObject *obj) {\n",
      "                                   ^\n",
      "\n",
      "\"cppsort_stdpar.cpp\", line 20273: warning: function\n",
      "          \"__Pyx_object_dict_version_matches\" was declared but never referenced\n",
      "  static CYTHON_INLINE int __Pyx_object_dict_version_matches(PyObject* obj, PY_UINT64_T tp_dict_version, PY_UINT64_T obj_dict_version) {\n",
      "                           ^\n",
      "\n",
      "\"cppsort_stdpar.cpp\", line 20832: warning: function\n",
      "          \"__Pyx_PyErr_GivenExceptionMatches2\" was declared but never\n",
      "          referenced\n",
      "  static CYTHON_INLINE int __Pyx_PyErr_GivenExceptionMatches2(PyObject *err, PyObject *exc_type1, PyObject *exc_type2) {\n",
      "                           ^\n",
      "\n",
      "\"cppsort_stdpar.cpp\", line 22012: warning: function\n",
      "          \"__Pyx_CyFunction_InitDefaults\" was declared but never referenced\n",
      "  static CYTHON_INLINE void *__Pyx_CyFunction_InitDefaults(PyObject *func, size_t size, int pyobjects) {\n",
      "                             ^\n",
      "\n",
      "\"cppsort_stdpar.cpp\", line 22022: warning: function\n",
      "          \"__Pyx_CyFunction_SetDefaultsTuple\" was declared but never referenced\n",
      "  static CYTHON_INLINE void __Pyx_CyFunction_SetDefaultsTuple(PyObject *func, PyObject *tuple) {\n",
      "                            ^\n",
      "\n",
      "\"cppsort_stdpar.cpp\", line 22027: warning: function\n",
      "          \"__Pyx_CyFunction_SetDefaultsKwDict\" was declared but never\n",
      "          referenced\n",
      "  static CYTHON_INLINE void __Pyx_CyFunction_SetDefaultsKwDict(PyObject *func, PyObject *dict) {\n",
      "                            ^\n",
      "\n",
      "\"cppsort_stdpar.cpp\", line 22032: warning: function\n",
      "          \"__Pyx_CyFunction_SetAnnotationsDict\" was declared but never\n",
      "          referenced\n",
      "  static CYTHON_INLINE void __Pyx_CyFunction_SetAnnotationsDict(PyObject *func, PyObject *dict) {\n",
      "                            ^\n",
      "\n",
      "\"cppsort_stdpar.cpp\", line 23145: warning: function \"__pyx_memview_get_int\" was\n",
      "          declared but never referenced\n",
      "      static CYTHON_INLINE PyObject *__pyx_memview_get_int(const char *itemp) {\n",
      "                                     ^\n",
      "\n",
      "\"cppsort_stdpar.cpp\", line 23148: warning: function \"__pyx_memview_set_int\" was\n",
      "          declared but never referenced\n",
      "  static CYTHON_INLINE int __pyx_memview_set_int(const char *itemp, PyObject *obj) {\n",
      "                           ^\n",
      "\n",
      "\"cppsort_stdpar.cpp\", line 23289: warning: function\n",
      "          \"__pyx_add_acquisition_count_locked\" was declared but never\n",
      "          referenced\n",
      "  __pyx_add_acquisition_count_locked(__pyx_atomic_int *acquisition_count,\n",
      "  ^\n",
      "\n",
      "\"cppsort_stdpar.cpp\", line 23299: warning: function\n",
      "          \"__pyx_sub_acquisition_count_locked\" was declared but never\n",
      "          referenced\n",
      "  __pyx_sub_acquisition_count_locked(__pyx_atomic_int *acquisition_count,\n",
      "  ^\n",
      "\n"
     ]
    },
    {
     "name": "stdout",
     "output_type": "stream",
     "text": [
      "/home/ashwin/tmp/hpc_sdk/Linux_x86_64/dev/compilers/bin/nvc++ -shared -stdpar build/temp.linux-x86_64-3.8/cppsort_stdpar.o -L/home/ashwin/tmp/hpc_sdk/Linux_x86_64/dev/compilers/lib -Wl,-R/home/ashwin/tmp/hpc_sdk/Linux_x86_64/dev/compilers/lib -o build/lib.linux-x86_64-3.8/cppsort_stdpar.cpython-38-x86_64-linux-gnu.so\n",
      "copying build/lib.linux-x86_64-3.8/cppsort_parallel.cpython-38-x86_64-linux-gnu.so -> \n",
      "copying build/lib.linux-x86_64-3.8/cppsort_serial.cpython-38-x86_64-linux-gnu.so -> \n",
      "copying build/lib.linux-x86_64-3.8/cppsort_stdpar.cpython-38-x86_64-linux-gnu.so -> \n"
     ]
    }
   ],
   "source": [
    "!CC=/home/ashwin/tmp/hpc_sdk/Linux_x86_64/dev/compilers/bin/nvc++ python setup.py build_ext --inplace"
   ]
  },
  {
   "cell_type": "code",
   "execution_count": 14,
   "metadata": {},
   "outputs": [
    {
     "data": {
      "text/plain": [
       "100         15.196703560650347 ms\n",
       "1000         462.5408910214901 µs\n",
       "10000       1.2455964460968971 ms\n",
       "100000       2.551164291799068 ms\n",
       "1000000      3.739868476986885 ms\n",
       "10000000     33.16338639706373 ms\n",
       "Name: std::sort (GPU with -stdpar), dtype: object"
      ]
     },
     "execution_count": 14,
     "metadata": {},
     "output_type": "execute_result"
    }
   ],
   "source": [
    "from cppsort_stdpar import cppsort\n",
    "\n",
    "cppsort_stdpar_times = pd.Series(\n",
    "    [time_sort(s, lambda x: cppsort(x)) for s in sizes],\n",
    "    index=sizes,\n",
    "    name=\"std::sort (GPU with -stdpar)\"\n",
    ")\n",
    "cppsort_stdpar_times.map(format_time)"
   ]
  },
  {
   "cell_type": "markdown",
   "metadata": {},
   "source": [
    "## Comparing performance"
   ]
  },
  {
   "cell_type": "markdown",
   "metadata": {},
   "source": [
    "Finally, we plot the speedups over NumPy:"
   ]
  },
  {
   "cell_type": "code",
   "execution_count": 15,
   "metadata": {},
   "outputs": [],
   "source": [
    "all_times = pd.DataFrame([numpy_times, cppsort_serial_times, cppsort_parallel_times, cppsort_stdpar_times]).T\n",
    "speedups = (1/all_times).multiply(numpy_times, axis=0)"
   ]
  },
  {
   "cell_type": "code",
   "execution_count": 16,
   "metadata": {},
   "outputs": [
    {
     "data": {
      "text/html": [
       "<div>\n",
       "<style scoped>\n",
       "    .dataframe tbody tr th:only-of-type {\n",
       "        vertical-align: middle;\n",
       "    }\n",
       "\n",
       "    .dataframe tbody tr th {\n",
       "        vertical-align: top;\n",
       "    }\n",
       "\n",
       "    .dataframe thead th {\n",
       "        text-align: right;\n",
       "    }\n",
       "</style>\n",
       "<table border=\"1\" class=\"dataframe\">\n",
       "  <thead>\n",
       "    <tr style=\"text-align: right;\">\n",
       "      <th></th>\n",
       "      <th>ndarray.sort()</th>\n",
       "      <th>std::sort (serial)</th>\n",
       "      <th>std::sort (parallel, CPU)</th>\n",
       "      <th>std::sort (GPU with -stdpar)</th>\n",
       "    </tr>\n",
       "  </thead>\n",
       "  <tbody>\n",
       "    <tr>\n",
       "      <th>100</th>\n",
       "      <td>1.0</td>\n",
       "      <td>3.548025</td>\n",
       "      <td>0.188325</td>\n",
       "      <td>0.003013</td>\n",
       "    </tr>\n",
       "    <tr>\n",
       "      <th>1000</th>\n",
       "      <td>1.0</td>\n",
       "      <td>1.184965</td>\n",
       "      <td>0.814326</td>\n",
       "      <td>0.216284</td>\n",
       "    </tr>\n",
       "    <tr>\n",
       "      <th>10000</th>\n",
       "      <td>1.0</td>\n",
       "      <td>0.693125</td>\n",
       "      <td>2.208735</td>\n",
       "      <td>0.519800</td>\n",
       "    </tr>\n",
       "    <tr>\n",
       "      <th>100000</th>\n",
       "      <td>1.0</td>\n",
       "      <td>0.928944</td>\n",
       "      <td>3.481649</td>\n",
       "      <td>2.054954</td>\n",
       "    </tr>\n",
       "    <tr>\n",
       "      <th>1000000</th>\n",
       "      <td>1.0</td>\n",
       "      <td>0.993097</td>\n",
       "      <td>5.541226</td>\n",
       "      <td>16.846334</td>\n",
       "    </tr>\n",
       "    <tr>\n",
       "      <th>10000000</th>\n",
       "      <td>1.0</td>\n",
       "      <td>0.993339</td>\n",
       "      <td>5.549282</td>\n",
       "      <td>22.123943</td>\n",
       "    </tr>\n",
       "  </tbody>\n",
       "</table>\n",
       "</div>"
      ],
      "text/plain": [
       "          ndarray.sort()  std::sort (serial)  std::sort (parallel, CPU)  \\\n",
       "100                  1.0            3.548025                   0.188325   \n",
       "1000                 1.0            1.184965                   0.814326   \n",
       "10000                1.0            0.693125                   2.208735   \n",
       "100000               1.0            0.928944                   3.481649   \n",
       "1000000              1.0            0.993097                   5.541226   \n",
       "10000000             1.0            0.993339                   5.549282   \n",
       "\n",
       "          std::sort (GPU with -stdpar)  \n",
       "100                           0.003013  \n",
       "1000                          0.216284  \n",
       "10000                         0.519800  \n",
       "100000                        2.054954  \n",
       "1000000                      16.846334  \n",
       "10000000                     22.123943  "
      ]
     },
     "execution_count": 16,
     "metadata": {},
     "output_type": "execute_result"
    }
   ],
   "source": [
    "speedups"
   ]
  },
  {
   "cell_type": "code",
   "execution_count": 17,
   "metadata": {},
   "outputs": [
    {
     "data": {
      "text/plain": [
       "<AxesSubplot:xlabel='Input array size', ylabel='Speedup over ndarray.sort()'>"
      ]
     },
     "execution_count": 17,
     "metadata": {},
     "output_type": "execute_result"
    },
    {
     "data": {
      "image/png": "[encoded data removed]",
      "text/plain": [
       "<Figure size 720x360 with 1 Axes>"
      ]
     },
     "metadata": {
      "needs_background": "light"
     },
     "output_type": "display_data"
    }
   ],
   "source": [
    "import matplotlib.pyplot as plt\n",
    "\n",
    "plt.rcParams.update({'font.size': 15})\n",
    "speedups.iloc[:, 1:].plot(\n",
    "    kind=\"bar\", \n",
    "    xlabel=\"Input array size\", \n",
    "    ylabel=\"Speedup over ndarray.sort()\", \n",
    "    figsize=(10, 5),\n",
    "    grid=True\n",
    ")"
   ]
  },
  {
   "cell_type": "code",
   "execution_count": null,
   "metadata": {},
   "outputs": [],
   "source": []
  }
 ],
 "metadata": {
  "kernelspec": {
   "display_name": "Python 3",
   "language": "python",
   "name": "python3"
  },
  "language_info": {
   "codemirror_mode": {
    "name": "ipython",
    "version": 3
   },
   "file_extension": ".py",
   "mimetype": "text/x-python",
   "name": "python",
   "nbconvert_exporter": "python",
   "pygments_lexer": "ipython3",
   "version": "3.8.5"
  }
 },
 "nbformat": 4,
 "nbformat_minor": 4
}
