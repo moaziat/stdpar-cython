{
 "cells": [
  {
   "cell_type": "code",
   "execution_count": 108,
   "metadata": {},
   "outputs": [],
   "source": [
    "import timeit\n",
    "\n",
    "import numpy as np\n",
    "import pandas as pd\n",
    "\n",
    "from cppsort import cppsort"
   ]
  },
  {
   "cell_type": "code",
   "execution_count": 109,
   "metadata": {},
   "outputs": [],
   "source": [
    "def random_data(size):\n",
    "    return np.random.randint(size, size=size, dtype=\"int32\")"
   ]
  },
  {
   "cell_type": "markdown",
   "metadata": {},
   "source": [
    "First, let's time NumPy's `.sort()`"
   ]
  },
  {
   "cell_type": "code",
   "execution_count": 110,
   "metadata": {},
   "outputs": [],
   "source": [
    "def format_time(dt):\n",
    "    units = {\"ns\": 1e-9, \"us\": 1e-6, \"ms\": 1e-3, \"s\": 1.0}\n",
    "    for name, u in units.items():\n",
    "        if dt/u < 1000:\n",
    "            return f\"{dt/u} {name}\"\n",
    "    return f\"{dt} sec\""
   ]
  },
  {
   "cell_type": "code",
   "execution_count": 111,
   "metadata": {},
   "outputs": [],
   "source": [
    "def time_sort(size, sort_func):    \n",
    "    repeat = 10\n",
    "    dt = 0\n",
    "    for i in range(repeat):\n",
    "        data = random_data(size)\n",
    "        start = timeit.default_timer()\n",
    "        sort_func(data)\n",
    "        end = timeit.default_timer()\n",
    "        dt += (end - start)\n",
    "    return (dt) / repeat"
   ]
  },
  {
   "cell_type": "code",
   "execution_count": 112,
   "metadata": {},
   "outputs": [],
   "source": [
    "sizes = [100, 1_000, 10_000, 100_000, 1_000_000, 10_000_000]"
   ]
  },
  {
   "cell_type": "code",
   "execution_count": 113,
   "metadata": {},
   "outputs": [
    {
     "data": {
      "text/plain": [
       "100          26.15833654999733 us\n",
       "1000         99.97468441724777 us\n",
       "10000       1.0788118466734886 ms\n",
       "100000       5.617252830415964 ms\n",
       "1000000      63.00150714814663 ms\n",
       "10000000     738.6317477561533 ms\n",
       "Name: NumPy, dtype: object"
      ]
     },
     "execution_count": 113,
     "metadata": {},
     "output_type": "execute_result"
    }
   ],
   "source": [
    "numpy_times = pd.Series(\n",
    "    [time_sort(s, lambda x: x.sort()) for s in sizes],\n",
    "    index=sizes,\n",
    "    name=\"NumPy\"\n",
    ")\n",
    "numpy_times.map(format_time)"
   ]
  },
  {
   "cell_type": "markdown",
   "metadata": {},
   "source": [
    "Serial cppsort:"
   ]
  },
  {
   "cell_type": "code",
   "execution_count": 114,
   "metadata": {},
   "outputs": [
    {
     "name": "stdout",
     "output_type": "stream",
     "text": [
      "Overwriting cppsort_serial.pyx\n"
     ]
    }
   ],
   "source": [
    "%%writefile cppsort_serial.pyx\n",
    "\n",
    "# distutils: language=c++\n",
    "\n",
    "from libcpp.algorithm cimport sort\n",
    "\n",
    "def cppsort(int[:] x):\n",
    "    sort(&x[0], &x[-1] + 1)\n",
    "    "
   ]
  },
  {
   "cell_type": "code",
   "execution_count": 115,
   "metadata": {},
   "outputs": [
    {
     "name": "stdout",
     "output_type": "stream",
     "text": [
      "Compiling cppsort_serial.pyx because it changed.\n",
      "[1/1] Cythonizing cppsort_serial.pyx\n",
      "/home/ashwin/workspace/github/cython/cython/Cython/Compiler/Main.py:344: FutureWarning: Cython directive 'language_level' not set, using '3str' for now (Py3). This has changed from earlier releases! File: /home/ashwin/workspace/github/shwina/stdpar-cython/sort/cppsort_serial.pyx\n",
      "  tree = Parsing.p_module(s, pxd, full_module_name)\n",
      "running build_ext\n",
      "building 'cppsort_serial' extension\n",
      "gcc -pthread -B /home/ashwin/miniconda3/envs/cython-dev/compiler_compat -Wl,--sysroot=/ -Wsign-compare -DNDEBUG -g -fwrapv -O3 -Wall -Wstrict-prototypes -fPIC -I/home/ashwin/miniconda3/envs/cython-dev/include/python3.8 -c cppsort_serial.cpp -o build/temp.linux-x86_64-3.8/cppsort_serial.o -std=c++17\n",
      "\u001b[01m\u001b[Kcc1plus:\u001b[m\u001b[K \u001b[01;35m\u001b[Kwarning: \u001b[m\u001b[Kcommand line option ‘\u001b[01m\u001b[K-Wstrict-prototypes\u001b[m\u001b[K’ is valid for C/ObjC but not for C++\n",
      "g++ -pthread -shared -B /home/ashwin/miniconda3/envs/cython-dev/compiler_compat -L/home/ashwin/miniconda3/envs/cython-dev/lib -Wl,-rpath=/home/ashwin/miniconda3/envs/cython-dev/lib -Wl,--no-as-needed -Wl,--sysroot=/ build/temp.linux-x86_64-3.8/cppsort_serial.o -ltbb -o build/lib.linux-x86_64-3.8/cppsort_serial.cpython-38-x86_64-linux-gnu.so\n",
      "copying build/lib.linux-x86_64-3.8/cppsort.cpython-38-x86_64-linux-gnu.so -> \n",
      "copying build/lib.linux-x86_64-3.8/cppsort_parallel.cpython-38-x86_64-linux-gnu.so -> \n",
      "copying build/lib.linux-x86_64-3.8/cppsort_serial.cpython-38-x86_64-linux-gnu.so -> \n",
      "copying build/lib.linux-x86_64-3.8/cppsort_stdpar.cpython-38-x86_64-linux-gnu.so -> \n"
     ]
    }
   ],
   "source": [
    "!python setup.py build_ext --inplace"
   ]
  },
  {
   "cell_type": "code",
   "execution_count": 116,
   "metadata": {},
   "outputs": [
    {
     "data": {
      "text/plain": [
       "100         12.619327753782272 us\n",
       "1000         99.90176185965538 us\n",
       "10000       1.0472103953361511 ms\n",
       "100000       5.663973465561867 ms\n",
       "1000000      63.61503358930349 ms\n",
       "10000000     737.7866001799702 ms\n",
       "Name: cppsort_serial, dtype: object"
      ]
     },
     "execution_count": 116,
     "metadata": {},
     "output_type": "execute_result"
    }
   ],
   "source": [
    "from cppsort_serial import cppsort\n",
    "\n",
    "cppsort_serial_times = pd.Series(\n",
    "    [time_sort(s, lambda x: cppsort(x)) for s in sizes],\n",
    "    index=sizes,\n",
    "    name=\"cppsort_serial\"\n",
    ")\n",
    "cppsort_serial_times.map(format_time)"
   ]
  },
  {
   "cell_type": "code",
   "execution_count": 117,
   "metadata": {},
   "outputs": [
    {
     "name": "stdout",
     "output_type": "stream",
     "text": [
      "Overwriting cppsort_parallel.pyx\n"
     ]
    }
   ],
   "source": [
    "%%writefile cppsort_parallel.pyx\n",
    "\n",
    "# distutils: language=c++\n",
    "\n",
    "from libcpp.algorithm cimport sort\n",
    "from libcpp.execution cimport par\n",
    "\n",
    "def cppsort(int[:] x):\n",
    "    sort(par, &x[0], &x[-1] + 1)"
   ]
  },
  {
   "cell_type": "code",
   "execution_count": 118,
   "metadata": {},
   "outputs": [
    {
     "name": "stdout",
     "output_type": "stream",
     "text": [
      "Compiling cppsort_parallel.pyx because it changed.\n",
      "[1/1] Cythonizing cppsort_parallel.pyx\n",
      "/home/ashwin/workspace/github/cython/cython/Cython/Compiler/Main.py:344: FutureWarning: Cython directive 'language_level' not set, using '3str' for now (Py3). This has changed from earlier releases! File: /home/ashwin/workspace/github/shwina/stdpar-cython/sort/cppsort_parallel.pyx\n",
      "  tree = Parsing.p_module(s, pxd, full_module_name)\n",
      "running build_ext\n",
      "building 'cppsort_parallel' extension\n",
      "gcc -pthread -B /home/ashwin/miniconda3/envs/cython-dev/compiler_compat -Wl,--sysroot=/ -Wsign-compare -DNDEBUG -g -fwrapv -O3 -Wall -Wstrict-prototypes -fPIC -I/home/ashwin/miniconda3/envs/cython-dev/include/python3.8 -c cppsort_parallel.cpp -o build/temp.linux-x86_64-3.8/cppsort_parallel.o -std=c++17\n",
      "\u001b[01m\u001b[Kcc1plus:\u001b[m\u001b[K \u001b[01;35m\u001b[Kwarning: \u001b[m\u001b[Kcommand line option ‘\u001b[01m\u001b[K-Wstrict-prototypes\u001b[m\u001b[K’ is valid for C/ObjC but not for C++\n",
      "g++ -pthread -shared -B /home/ashwin/miniconda3/envs/cython-dev/compiler_compat -L/home/ashwin/miniconda3/envs/cython-dev/lib -Wl,-rpath=/home/ashwin/miniconda3/envs/cython-dev/lib -Wl,--no-as-needed -Wl,--sysroot=/ build/temp.linux-x86_64-3.8/cppsort_parallel.o -ltbb -o build/lib.linux-x86_64-3.8/cppsort_parallel.cpython-38-x86_64-linux-gnu.so\n",
      "copying build/lib.linux-x86_64-3.8/cppsort.cpython-38-x86_64-linux-gnu.so -> \n",
      "copying build/lib.linux-x86_64-3.8/cppsort_parallel.cpython-38-x86_64-linux-gnu.so -> \n",
      "copying build/lib.linux-x86_64-3.8/cppsort_serial.cpython-38-x86_64-linux-gnu.so -> \n",
      "copying build/lib.linux-x86_64-3.8/cppsort_stdpar.cpython-38-x86_64-linux-gnu.so -> \n"
     ]
    }
   ],
   "source": [
    "!python setup.py build_ext --inplace"
   ]
  },
  {
   "cell_type": "code",
   "execution_count": 119,
   "metadata": {},
   "outputs": [
    {
     "data": {
      "text/plain": [
       "100         13.918243348598482 us\n",
       "1000        126.41288340091705 us\n",
       "10000       315.37339091300964 us\n",
       "100000      1.5381880104541779 ms\n",
       "1000000     11.493029817938805 ms\n",
       "10000000    132.92472083121538 ms\n",
       "Name: cppsort_parallel, dtype: object"
      ]
     },
     "execution_count": 119,
     "metadata": {},
     "output_type": "execute_result"
    }
   ],
   "source": [
    "from cppsort_parallel import cppsort\n",
    "\n",
    "cppsort_parallel_times = pd.Series(\n",
    "    [time_sort(s, lambda x: cppsort(x)) for s in sizes],\n",
    "    index=sizes,\n",
    "    name=\"cppsort_parallel\"\n",
    ")\n",
    "cppsort_parallel_times.map(format_time)"
   ]
  },
  {
   "cell_type": "code",
   "execution_count": 120,
   "metadata": {},
   "outputs": [
    {
     "name": "stdout",
     "output_type": "stream",
     "text": [
      "Overwriting cppsort_stdpar.pyx\n"
     ]
    }
   ],
   "source": [
    "%%writefile cppsort_stdpar.pyx\n",
    "\n",
    "# distutils: language=c++\n",
    "\n",
    "from libcpp.algorithm cimport sort, copy_n\n",
    "from libcpp.execution cimport par\n",
    "from libcpp.vector cimport vector\n",
    "\n",
    "def cppsort(int[:] x):\n",
    "    \"\"\"\n",
    "    Sort the elements of x \"in-place\" using std::sort\n",
    "    \"\"\"\n",
    "    cdef vector[int] vec\n",
    "    vec.resize(len(x))\n",
    "    copy_n(&x[0], len(x), vec.begin())\n",
    "    sort(par, vec.begin(), vec.end())\n",
    "    copy_n(vec.begin(), len(x), &x[0])"
   ]
  },
  {
   "cell_type": "code",
   "execution_count": 121,
   "metadata": {},
   "outputs": [
    {
     "name": "stdout",
     "output_type": "stream",
     "text": [
      "Compiling cppsort_stdpar.pyx because it changed.\n",
      "[1/1] Cythonizing cppsort_stdpar.pyx\n",
      "/home/ashwin/workspace/github/cython/cython/Cython/Compiler/Main.py:344: FutureWarning: Cython directive 'language_level' not set, using '3str' for now (Py3). This has changed from earlier releases! File: /home/ashwin/workspace/github/shwina/stdpar-cython/sort/cppsort_stdpar.pyx\n",
      "  tree = Parsing.p_module(s, pxd, full_module_name)\n",
      "running build_ext\n",
      "building 'cppsort_stdpar' extension\n",
      "/home/ashwin/tmp/hpc_sdk/Linux_x86_64/dev/compilers/bin/nvc++ -fPIC -stdpar -gpu=nordc -std=c++17 -I/home/ashwin/tmp/hpc_sdk/Linux_x86_64/dev/compilers/include-stdpar -I/home/ashwin/miniconda3/envs/cython-dev/include/python3.8 -c cppsort_stdpar.cpp -o build/temp.linux-x86_64-3.8/cppsort_stdpar.o -std=c++17\n",
      "\"cppsort_stdpar.cpp\", line 18153: warning: variable \"__pyx_lineno\" was set but\n",
      "          never used\n",
      "    int __pyx_lineno = 0;\n",
      "        ^\n",
      "\n",
      "\"cppsort_stdpar.cpp\", line 18154: warning: variable \"__pyx_filename\" was set\n",
      "          but never used\n",
      "    const char *__pyx_filename = NULL;\n",
      "                ^\n",
      "\n",
      "\"cppsort_stdpar.cpp\", line 18155: warning: variable \"__pyx_clineno\" was set but\n",
      "          never used\n",
      "    int __pyx_clineno = 0;\n",
      "        ^\n",
      "\n",
      "\"cppsort_stdpar.cpp\", line 23389: warning: dynamic initialization in\n",
      "          unreachable code\n",
      "          int one = 1; int little = (int)*(unsigned char *)&one;\n",
      "              ^\n",
      "\n",
      "\"cppsort_stdpar.cpp\", line 23553: warning: dynamic initialization in\n",
      "          unreachable code\n",
      "              PyObject *v = __Pyx_PyNumber_IntOrLong(x);\n",
      "                        ^\n",
      "\n",
      "\"cppsort_stdpar.cpp\", line 23631: warning: statement is unreachable\n",
      "                      break;\n",
      "                      ^\n",
      "\n",
      "\"cppsort_stdpar.cpp\", line 23687: warning: statement is unreachable\n",
      "                      break;\n",
      "                      ^\n",
      "\n",
      "\"cppsort_stdpar.cpp\", line 23696: warning: statement is unreachable\n",
      "                      break;\n",
      "                      ^\n",
      "\n",
      "\"cppsort_stdpar.cpp\", line 23749: warning: dynamic initialization in\n",
      "          unreachable code\n",
      "              PyObject *v = __Pyx_PyNumber_IntOrLong(x);\n",
      "                        ^\n",
      "\n",
      "\"cppsort_stdpar.cpp\", line 23819: warning: dynamic initialization in\n",
      "          unreachable code\n",
      "          int one = 1; int little = (int)*(unsigned char *)&one;\n",
      "              ^\n",
      "\n",
      "\"cppsort_stdpar.cpp\", line 23983: warning: dynamic initialization in\n",
      "          unreachable code\n",
      "              PyObject *v = __Pyx_PyNumber_IntOrLong(x);\n",
      "                        ^\n",
      "\n",
      "\"cppsort_stdpar.cpp\", line 24280: warning: statement is unreachable\n",
      "             break;\n",
      "             ^\n",
      "\n",
      "\"cppsort_stdpar.cpp\", line 24285: warning: statement is unreachable\n",
      "             break;\n",
      "             ^\n",
      "\n",
      "\"cppsort_stdpar.cpp\", line 24101: warning: function \"__Pyx_PyObject_AsString\"\n",
      "          was declared but never referenced\n",
      "  static CYTHON_INLINE const char* __Pyx_PyObject_AsString(PyObject* o) {\n",
      "                                   ^\n",
      "\n",
      "\"cppsort_stdpar.cpp\", line 24098: warning: function\n",
      "          \"__Pyx_PyUnicode_FromString\" was declared but never referenced\n",
      "  static CYTHON_INLINE PyObject* __Pyx_PyUnicode_FromString(const char* c_str) {\n",
      "                                 ^\n",
      "\n",
      "\"cppsort_stdpar.cpp\", line 938: warning: function \"__Pyx_Py_UNICODE_strlen\" was\n",
      "          declared but never referenced\n",
      "  static CYTHON_INLINE size_t __Pyx_Py_UNICODE_strlen(const Py_UNICODE *u)\n",
      "                              ^\n",
      "\n",
      "\"cppsort_stdpar.cpp\", line 24175: warning: function\n",
      "          \"__Pyx_PyObject_IsTrueAndDecref\" was declared but never referenced\n",
      "  static CYTHON_INLINE int __Pyx_PyObject_IsTrueAndDecref(PyObject* x) {\n",
      "                           ^\n",
      "\n",
      "\"cppsort_stdpar.cpp\", line 24337: warning: function \"__Pyx_PyInt_FromSize_t\"\n",
      "          was declared but never referenced\n",
      "  static CYTHON_INLINE PyObject * __Pyx_PyInt_FromSize_t(size_t ival) {\n",
      "                                  ^\n",
      "\n",
      "\"cppsort_stdpar.cpp\", line 24317: warning: function \"__Pyx_PyIndex_AsHash_t\"\n",
      "          was declared but never referenced\n",
      "  static CYTHON_INLINE Py_hash_t __Pyx_PyIndex_AsHash_t(PyObject* o) {\n",
      "                                 ^\n",
      "\n",
      "\"cppsort_stdpar.cpp\", line 1055: warning: function\n",
      "          \"__Pyx_pretend_to_initialize\" was declared but never referenced\n",
      "  static CYTHON_INLINE void __Pyx_pretend_to_initialize(void* ptr) { (void)ptr; }\n",
      "                            ^\n",
      "\n",
      "\"cppsort_stdpar.cpp\", line 1066: warning: variable \"__pyx_lineno\" was set but\n",
      "          never used\n",
      "  static int __pyx_lineno;\n",
      "             ^\n",
      "\n",
      "\"cppsort_stdpar.cpp\", line 1067: warning: variable \"__pyx_clineno\" was set but\n",
      "          never used\n",
      "  static int __pyx_clineno = 0;\n",
      "             ^\n",
      "\n",
      "\"cppsort_stdpar.cpp\", line 1069: warning: variable \"__pyx_filename\" was set but\n",
      "          never used\n",
      "  static const char *__pyx_filename;\n",
      "                     ^\n",
      "\n",
      "\"cppsort_stdpar.cpp\", line 18815: warning: function \"__Pyx_PyList_FromArray\"\n",
      "          was declared but never referenced\n",
      "  __Pyx_PyList_FromArray(PyObject *const *src, Py_ssize_t n)\n",
      "  ^\n",
      "\n",
      "\"cppsort_stdpar.cpp\", line 18802: warning: function \"__Pyx_PyTuple_FromArray\"\n",
      "          was declared but never referenced\n",
      "  __Pyx_PyTuple_FromArray(PyObject *const *src, Py_ssize_t n)\n",
      "  ^\n",
      "\n",
      "\"cppsort_stdpar.cpp\", line 18829: warning: function \"__Pyx_PyBytes_Equals\" was\n",
      "          declared but never referenced\n",
      "  static CYTHON_INLINE int __Pyx_PyBytes_Equals(PyObject* s1, PyObject* s2, int equals) {\n",
      "                           ^\n",
      "\n",
      "\"cppsort_stdpar.cpp\", line 1534: warning: variable\n",
      "          \"__pyx_pyframe_localsplus_offset\" was set but never used\n",
      "    static size_t __pyx_pyframe_localsplus_offset = 0;\n",
      "                  ^\n",
      "\n",
      "\"cppsort_stdpar.cpp\", line 20024: warning: function\n",
      "          \"__Pyx_GetItemInt_List_Fast\" was declared but never referenced\n",
      "  static CYTHON_INLINE PyObject *__Pyx_GetItemInt_List_Fast(PyObject *o, Py_ssize_t i,\n",
      "                                 ^\n",
      "\n",
      "\"cppsort_stdpar.cpp\", line 20257: warning: function \"__Pyx_get_tp_dict_version\"\n",
      "          was declared but never referenced\n",
      "  static CYTHON_INLINE PY_UINT64_T __Pyx_get_tp_dict_version(PyObject *obj) {\n",
      "                                   ^\n",
      "\n",
      "\"cppsort_stdpar.cpp\", line 20273: warning: function\n",
      "          \"__Pyx_object_dict_version_matches\" was declared but never referenced\n",
      "  static CYTHON_INLINE int __Pyx_object_dict_version_matches(PyObject* obj, PY_UINT64_T tp_dict_version, PY_UINT64_T obj_dict_version) {\n",
      "                           ^\n",
      "\n",
      "\"cppsort_stdpar.cpp\", line 20832: warning: function\n",
      "          \"__Pyx_PyErr_GivenExceptionMatches2\" was declared but never\n",
      "          referenced\n",
      "  static CYTHON_INLINE int __Pyx_PyErr_GivenExceptionMatches2(PyObject *err, PyObject *exc_type1, PyObject *exc_type2) {\n",
      "                           ^\n",
      "\n",
      "\"cppsort_stdpar.cpp\", line 22012: warning: function\n",
      "          \"__Pyx_CyFunction_InitDefaults\" was declared but never referenced\n",
      "  static CYTHON_INLINE void *__Pyx_CyFunction_InitDefaults(PyObject *func, size_t size, int pyobjects) {\n",
      "                             ^\n",
      "\n",
      "\"cppsort_stdpar.cpp\", line 22022: warning: function\n",
      "          \"__Pyx_CyFunction_SetDefaultsTuple\" was declared but never referenced\n",
      "  static CYTHON_INLINE void __Pyx_CyFunction_SetDefaultsTuple(PyObject *func, PyObject *tuple) {\n",
      "                            ^\n",
      "\n",
      "\"cppsort_stdpar.cpp\", line 22027: warning: function\n",
      "          \"__Pyx_CyFunction_SetDefaultsKwDict\" was declared but never\n",
      "          referenced\n",
      "  static CYTHON_INLINE void __Pyx_CyFunction_SetDefaultsKwDict(PyObject *func, PyObject *dict) {\n",
      "                            ^\n",
      "\n",
      "\"cppsort_stdpar.cpp\", line 22032: warning: function\n",
      "          \"__Pyx_CyFunction_SetAnnotationsDict\" was declared but never\n",
      "          referenced\n",
      "  static CYTHON_INLINE void __Pyx_CyFunction_SetAnnotationsDict(PyObject *func, PyObject *dict) {\n",
      "                            ^\n",
      "\n",
      "\"cppsort_stdpar.cpp\", line 23145: warning: function \"__pyx_memview_get_int\" was\n",
      "          declared but never referenced\n",
      "      static CYTHON_INLINE PyObject *__pyx_memview_get_int(const char *itemp) {\n",
      "                                     ^\n",
      "\n",
      "\"cppsort_stdpar.cpp\", line 23148: warning: function \"__pyx_memview_set_int\" was\n",
      "          declared but never referenced\n",
      "  static CYTHON_INLINE int __pyx_memview_set_int(const char *itemp, PyObject *obj) {\n",
      "                           ^\n",
      "\n",
      "\"cppsort_stdpar.cpp\", line 23289: warning: function\n",
      "          \"__pyx_add_acquisition_count_locked\" was declared but never\n",
      "          referenced\n",
      "  __pyx_add_acquisition_count_locked(__pyx_atomic_int *acquisition_count,\n",
      "  ^\n",
      "\n",
      "\"cppsort_stdpar.cpp\", line 23299: warning: function\n",
      "          \"__pyx_sub_acquisition_count_locked\" was declared but never\n",
      "          referenced\n",
      "  __pyx_sub_acquisition_count_locked(__pyx_atomic_int *acquisition_count,\n",
      "  ^\n",
      "\n"
     ]
    },
    {
     "name": "stdout",
     "output_type": "stream",
     "text": [
      "/home/ashwin/tmp/hpc_sdk/Linux_x86_64/dev/compilers/bin/nvc++ -shared -stdpar build/temp.linux-x86_64-3.8/cppsort_stdpar.o -L/home/ashwin/tmp/hpc_sdk/Linux_x86_64/dev/compilers/lib -Wl,-R/home/ashwin/tmp/hpc_sdk/Linux_x86_64/dev/compilers/lib -o build/lib.linux-x86_64-3.8/cppsort_stdpar.cpython-38-x86_64-linux-gnu.so\n",
      "copying build/lib.linux-x86_64-3.8/cppsort.cpython-38-x86_64-linux-gnu.so -> \n",
      "copying build/lib.linux-x86_64-3.8/cppsort_parallel.cpython-38-x86_64-linux-gnu.so -> \n",
      "copying build/lib.linux-x86_64-3.8/cppsort_serial.cpython-38-x86_64-linux-gnu.so -> \n",
      "copying build/lib.linux-x86_64-3.8/cppsort_stdpar.cpython-38-x86_64-linux-gnu.so -> \n"
     ]
    }
   ],
   "source": [
    "!CC=/home/ashwin/tmp/hpc_sdk/Linux_x86_64/dev/compilers/bin/nvc++ python setup.py build_ext --inplace"
   ]
  },
  {
   "cell_type": "code",
   "execution_count": 122,
   "metadata": {},
   "outputs": [
    {
     "data": {
      "text/plain": [
       "100          868.2208135724068 us\n",
       "1000         446.1145028471947 us\n",
       "10000        2.264292724430561 ms\n",
       "100000      1.4940942637622356 ms\n",
       "1000000      3.731072973459959 ms\n",
       "10000000    31.147489976137877 ms\n",
       "Name: cppsort_stdpar, dtype: object"
      ]
     },
     "execution_count": 122,
     "metadata": {},
     "output_type": "execute_result"
    }
   ],
   "source": [
    "from cppsort_stdpar import cppsort\n",
    "\n",
    "cppsort_stdpar_times = pd.Series(\n",
    "    [time_sort(s, lambda x: cppsort(x)) for s in sizes],\n",
    "    index=sizes,\n",
    "    name=\"cppsort_stdpar\"\n",
    ")\n",
    "cppsort_stdpar_times.map(format_time)"
   ]
  },
  {
   "cell_type": "code",
   "execution_count": 123,
   "metadata": {},
   "outputs": [
    {
     "data": {
      "text/plain": [
       "100         0.000026\n",
       "1000        0.000100\n",
       "10000       0.001079\n",
       "100000      0.005617\n",
       "1000000     0.063002\n",
       "10000000    0.738632\n",
       "Name: NumPy, dtype: float64"
      ]
     },
     "execution_count": 123,
     "metadata": {},
     "output_type": "execute_result"
    }
   ],
   "source": [
    "numpy_times"
   ]
  },
  {
   "cell_type": "code",
   "execution_count": 124,
   "metadata": {},
   "outputs": [],
   "source": [
    "all_times = pd.DataFrame([numpy_times, cppsort_serial_times, cppsort_parallel_times, cppsort_stdpar_times]).T\n",
    "speedups = (1/all_times).multiply(numpy_times, axis=0)"
   ]
  },
  {
   "cell_type": "code",
   "execution_count": 125,
   "metadata": {},
   "outputs": [
    {
     "data": {
      "text/html": [
       "<div>\n",
       "<style scoped>\n",
       "    .dataframe tbody tr th:only-of-type {\n",
       "        vertical-align: middle;\n",
       "    }\n",
       "\n",
       "    .dataframe tbody tr th {\n",
       "        vertical-align: top;\n",
       "    }\n",
       "\n",
       "    .dataframe thead th {\n",
       "        text-align: right;\n",
       "    }\n",
       "</style>\n",
       "<table border=\"1\" class=\"dataframe\">\n",
       "  <thead>\n",
       "    <tr style=\"text-align: right;\">\n",
       "      <th></th>\n",
       "      <th>NumPy</th>\n",
       "      <th>cppsort_serial</th>\n",
       "      <th>cppsort_parallel</th>\n",
       "      <th>cppsort_stdpar</th>\n",
       "    </tr>\n",
       "  </thead>\n",
       "  <tbody>\n",
       "    <tr>\n",
       "      <th>100</th>\n",
       "      <td>1.0</td>\n",
       "      <td>2.072879</td>\n",
       "      <td>1.879428</td>\n",
       "      <td>0.030129</td>\n",
       "    </tr>\n",
       "    <tr>\n",
       "      <th>1000</th>\n",
       "      <td>1.0</td>\n",
       "      <td>1.000730</td>\n",
       "      <td>0.790858</td>\n",
       "      <td>0.224101</td>\n",
       "    </tr>\n",
       "    <tr>\n",
       "      <th>10000</th>\n",
       "      <td>1.0</td>\n",
       "      <td>1.030177</td>\n",
       "      <td>3.420745</td>\n",
       "      <td>0.476445</td>\n",
       "    </tr>\n",
       "    <tr>\n",
       "      <th>100000</th>\n",
       "      <td>1.0</td>\n",
       "      <td>0.991751</td>\n",
       "      <td>3.651864</td>\n",
       "      <td>3.759638</td>\n",
       "    </tr>\n",
       "    <tr>\n",
       "      <th>1000000</th>\n",
       "      <td>1.0</td>\n",
       "      <td>0.990356</td>\n",
       "      <td>5.481714</td>\n",
       "      <td>16.885627</td>\n",
       "    </tr>\n",
       "    <tr>\n",
       "      <th>10000000</th>\n",
       "      <td>1.0</td>\n",
       "      <td>1.001146</td>\n",
       "      <td>5.556767</td>\n",
       "      <td>23.714005</td>\n",
       "    </tr>\n",
       "  </tbody>\n",
       "</table>\n",
       "</div>"
      ],
      "text/plain": [
       "          NumPy  cppsort_serial  cppsort_parallel  cppsort_stdpar\n",
       "100         1.0        2.072879          1.879428        0.030129\n",
       "1000        1.0        1.000730          0.790858        0.224101\n",
       "10000       1.0        1.030177          3.420745        0.476445\n",
       "100000      1.0        0.991751          3.651864        3.759638\n",
       "1000000     1.0        0.990356          5.481714       16.885627\n",
       "10000000    1.0        1.001146          5.556767       23.714005"
      ]
     },
     "execution_count": 125,
     "metadata": {},
     "output_type": "execute_result"
    }
   ],
   "source": [
    "speedups"
   ]
  },
  {
   "cell_type": "code",
   "execution_count": 127,
   "metadata": {},
   "outputs": [
    {
     "data": {
      "text/plain": [
       "<AxesSubplot:>"
      ]
     },
     "execution_count": 127,
     "metadata": {},
     "output_type": "execute_result"
    },
    {
     "data": {
      "image/png": "[encoded data removed]",
      "text/plain": [
       "<Figure size 432x288 with 1 Axes>"
      ]
     },
     "metadata": {
      "needs_background": "light"
     },
     "output_type": "display_data"
    }
   ],
   "source": [
    "speedups.iloc[:, 1:].plot(kind=\"bar\")"
   ]
  }
 ],
 "metadata": {
  "kernelspec": {
   "display_name": "Python 3",
   "language": "python",
   "name": "python3"
  },
  "language_info": {
   "codemirror_mode": {
    "name": "ipython",
    "version": 3
   },
   "file_extension": ".py",
   "mimetype": "text/x-python",
   "name": "python",
   "nbconvert_exporter": "python",
   "pygments_lexer": "ipython3",
   "version": "3.8.5"
  }
 },
 "nbformat": 4,
 "nbformat_minor": 4
}
